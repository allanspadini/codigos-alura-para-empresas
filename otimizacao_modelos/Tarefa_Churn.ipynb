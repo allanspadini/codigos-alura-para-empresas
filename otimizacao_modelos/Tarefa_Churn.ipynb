{
  "nbformat": 4,
  "nbformat_minor": 0,
  "metadata": {
    "colab": {
      "provenance": []
    },
    "kernelspec": {
      "name": "python3",
      "display_name": "Python 3"
    },
    "language_info": {
      "name": "python"
    }
  },
  "cells": [
    {
      "cell_type": "markdown",
      "source": [
        "# Configuração"
      ],
      "metadata": {
        "id": "dCAY5LAz-rZX"
      }
    },
    {
      "cell_type": "code",
      "execution_count": null,
      "metadata": {
        "id": "DqYbtiApjYVr"
      },
      "outputs": [],
      "source": [
        "!pip install llama-index llama-index-experimental llama_index.llms.gemini"
      ]
    },
    {
      "cell_type": "code",
      "source": [
        "from google.colab import userdata\n",
        "chave = userdata.get('GEMINI_API_KEY')"
      ],
      "metadata": {
        "id": "Y7cctXM6pnoo"
      },
      "execution_count": null,
      "outputs": []
    },
    {
      "cell_type": "code",
      "source": [
        "import pandas as pd\n",
        "from llama_index.experimental.query_engine import PandasQueryEngine\n",
        "from llama_index.llms.gemini import Gemini"
      ],
      "metadata": {
        "id": "CpKM0Q47qlqr"
      },
      "execution_count": null,
      "outputs": []
    },
    {
      "cell_type": "code",
      "source": [
        "# Configuração do LLM (substituir pela chave real)\n",
        "llm = Gemini(model=\"models/gemini-1.5-flash\", api_key=chave)"
      ],
      "metadata": {
        "id": "84pcHkpjqmz8"
      },
      "execution_count": null,
      "outputs": []
    },
    {
      "cell_type": "code",
      "source": [
        "# Baixar dataset de churn\n",
        "url = \"https://github.com/allanspadini/codigos-alura-para-empresas/raw/refs/heads/main/otimizacao_modelos/churn.csv\"\n",
        "df = pd.read_csv(url)"
      ],
      "metadata": {
        "id": "rfGmt614qsXl"
      },
      "execution_count": null,
      "outputs": []
    },
    {
      "cell_type": "code",
      "source": [
        "df.head()"
      ],
      "metadata": {
        "id": "t5HCtmnjuLIN"
      },
      "execution_count": null,
      "outputs": []
    },
    {
      "cell_type": "markdown",
      "source": [
        "# Identificar dados nulos"
      ],
      "metadata": {
        "id": "R1Cm96H3-vj5"
      }
    },
    {
      "cell_type": "code",
      "source": [
        "# Criar Query Engine\n",
        "query_engine = PandasQueryEngine(df=df, llm=llm, verbose=True)"
      ],
      "metadata": {
        "id": "jKPqM9FOquSz"
      },
      "execution_count": null,
      "outputs": []
    },
    {
      "cell_type": "code",
      "source": [
        "# Identificar dados nulos\n",
        "response = query_engine.query(\"O dataset possui valores nulos?\")\n",
        "print(response.metadata['raw_pandas_output'])"
      ],
      "metadata": {
        "id": "uc-cDBoJq0_9"
      },
      "execution_count": null,
      "outputs": []
    },
    {
      "cell_type": "markdown",
      "source": [
        "# Obter a correlação de valores que façam sentido"
      ],
      "metadata": {
        "id": "-6ioOyHF-01-"
      }
    },
    {
      "cell_type": "code",
      "source": [],
      "metadata": {
        "id": "7cIsnloKq2Hy"
      },
      "execution_count": null,
      "outputs": []
    },
    {
      "cell_type": "code",
      "source": [],
      "metadata": {
        "id": "nHLreytFq3U7"
      },
      "execution_count": null,
      "outputs": []
    },
    {
      "cell_type": "markdown",
      "source": [
        "# Exibir a coluna Contract com valores numéricos"
      ],
      "metadata": {
        "id": "ciqP67k9_HbX"
      }
    },
    {
      "cell_type": "code",
      "source": [],
      "metadata": {
        "id": "--kpo5P3q4db"
      },
      "execution_count": null,
      "outputs": []
    },
    {
      "cell_type": "markdown",
      "source": [
        "# Sugerir novas features para prever o churn"
      ],
      "metadata": {
        "id": "jUyKh1LV_S_N"
      }
    },
    {
      "cell_type": "code",
      "source": [],
      "metadata": {
        "id": "HinTyaauq5-H"
      },
      "execution_count": null,
      "outputs": []
    },
    {
      "cell_type": "code",
      "source": [],
      "metadata": {
        "id": "KJBt1NVFud10"
      },
      "execution_count": null,
      "outputs": []
    }
  ]
}