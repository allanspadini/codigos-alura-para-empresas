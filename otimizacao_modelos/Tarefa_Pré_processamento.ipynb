{
  "nbformat": 4,
  "nbformat_minor": 0,
  "metadata": {
    "colab": {
      "provenance": []
    },
    "kernelspec": {
      "name": "python3",
      "display_name": "Python 3"
    },
    "language_info": {
      "name": "python"
    }
  },
  "cells": [
    {
      "cell_type": "markdown",
      "source": [
        "# Configuração e exemplo"
      ],
      "metadata": {
        "id": "eZ2XdQavKDsl"
      }
    },
    {
      "cell_type": "code",
      "execution_count": null,
      "metadata": {
        "id": "EY23LI1vPUJj"
      },
      "outputs": [],
      "source": [
        "!pip install llama-index llama-index-experimental llama_index.llms.gemini"
      ]
    },
    {
      "cell_type": "code",
      "source": [
        "import pandas as pd\n",
        "from llama_index.experimental.query_engine import PandasQueryEngine\n",
        "from llama_index.llms.gemini import Gemini\n"
      ],
      "metadata": {
        "id": "BbZ-99GWPchT"
      },
      "execution_count": null,
      "outputs": []
    },
    {
      "cell_type": "code",
      "source": [
        "from google.colab import userdata\n",
        "chave = userdata.get('GEMINI_API_KEY')"
      ],
      "metadata": {
        "id": "oz818BrkRfRp"
      },
      "execution_count": null,
      "outputs": []
    },
    {
      "cell_type": "code",
      "source": [
        "import llama_index"
      ],
      "metadata": {
        "id": "6seILv76RpcJ"
      },
      "execution_count": null,
      "outputs": []
    },
    {
      "cell_type": "code",
      "source": [
        "llm = Gemini(\n",
        "    model=\"models/gemini-1.5-flash\",\n",
        "    api_key=chave,\n",
        ")"
      ],
      "metadata": {
        "id": "dqD29PTSR_dq"
      },
      "execution_count": null,
      "outputs": []
    },
    {
      "cell_type": "code",
      "source": [
        "df = pd.DataFrame(\n",
        "    {\n",
        "        \"city\": [\"Toronto\", \"Tokyo\", \"Berlin\"],\n",
        "        \"population\": [2930000, 13960000, 3645000],\n",
        "    }\n",
        ")"
      ],
      "metadata": {
        "id": "IoVrQL9QPkWH"
      },
      "execution_count": null,
      "outputs": []
    },
    {
      "cell_type": "code",
      "source": [
        "df"
      ],
      "metadata": {
        "id": "O2OT0Jr5P2PW"
      },
      "execution_count": null,
      "outputs": []
    },
    {
      "cell_type": "code",
      "source": [
        "query_engine = PandasQueryEngine(df=df, llm=llm,verbose=True)\n"
      ],
      "metadata": {
        "id": "6eZL-cssRM4X"
      },
      "execution_count": null,
      "outputs": []
    },
    {
      "cell_type": "code",
      "source": [
        "response = query_engine.query(\n",
        "    \"Qual a cidade com a maior população?\",\n",
        ")"
      ],
      "metadata": {
        "id": "TikGY-Q9RQBc"
      },
      "execution_count": null,
      "outputs": []
    },
    {
      "cell_type": "code",
      "source": [
        "url = 'https://github.com/allanspadini/codigos-alura-para-empresas/raw/refs/heads/main/laptop_prices.csv'\n",
        "df = pd.read_csv(url)\n",
        "df.head()"
      ],
      "metadata": {
        "id": "XBQ9PfvQTm0f"
      },
      "execution_count": null,
      "outputs": []
    },
    {
      "cell_type": "markdown",
      "source": [
        "# Tarefa 1: Criar a query engine"
      ],
      "metadata": {
        "id": "Dm_AlpEYVZ--"
      }
    },
    {
      "cell_type": "markdown",
      "source": [
        "Objetivo:\n",
        "Criar uma query engine que permita filtrar o DataFrame df com base em critérios fornecidos pelo usuário."
      ],
      "metadata": {
        "id": "x3z8EgFLmSSi"
      }
    },
    {
      "cell_type": "code",
      "source": [],
      "metadata": {
        "id": "FGcJQt34VUpC"
      },
      "execution_count": null,
      "outputs": []
    },
    {
      "cell_type": "markdown",
      "source": [
        "# Tarefa 2: Entendimento dos dados"
      ],
      "metadata": {
        "id": "LgcqEDSmVmFQ"
      }
    },
    {
      "cell_type": "markdown",
      "source": [
        "Além de filtrar os dados, sua equipe precisa garantir que os usuários possam fazer perguntas gerais sobre o dataset. Por exemplo:\n",
        "\n",
        "Existem valores nulos no dataset?\n",
        "Quantos notebooks têm GPU dedicada?\n",
        "Qual é a média de preço dos notebooks?\n",
        "Essas perguntas ajudam a entender melhor a qualidade e as características dos dados antes de aplicar filtros mais específicos."
      ],
      "metadata": {
        "id": "Q0sXimwomuQa"
      }
    },
    {
      "cell_type": "code",
      "source": [],
      "metadata": {
        "id": "s8gOHvGUVhHT"
      },
      "execution_count": null,
      "outputs": []
    },
    {
      "cell_type": "code",
      "source": [],
      "metadata": {
        "id": "H1mab2oLWZyC"
      },
      "execution_count": null,
      "outputs": []
    },
    {
      "cell_type": "code",
      "source": [],
      "metadata": {
        "id": "PBXhtj7eWefu"
      },
      "execution_count": null,
      "outputs": []
    },
    {
      "cell_type": "code",
      "source": [],
      "metadata": {
        "id": "LgJaQcDRYFPB"
      },
      "execution_count": null,
      "outputs": []
    },
    {
      "cell_type": "markdown",
      "source": [
        "# Tarefa 3: Mudando os dados"
      ],
      "metadata": {
        "id": "enj74cWZZjav"
      }
    },
    {
      "cell_type": "markdown",
      "source": [
        "Usar a query_engine para aplicar One-hot encoding nas colunas categóricas do dataset.\n",
        "\n",
        "Passo a Passo:\n",
        "Entenda as Colunas Categóricas :\n",
        "No dataset fornecido, as colunas categóricas são:\n",
        "Brand\n",
        "Processor\n",
        "Storage\n",
        "GPU\n",
        "Operating System"
      ],
      "metadata": {
        "id": "hsOhRFbVnJit"
      }
    },
    {
      "cell_type": "code",
      "source": [],
      "metadata": {
        "id": "BeCe5r5tYoVk"
      },
      "execution_count": null,
      "outputs": []
    },
    {
      "cell_type": "code",
      "source": [],
      "metadata": {
        "id": "QYWLomfnZ0tr"
      },
      "execution_count": null,
      "outputs": []
    },
    {
      "cell_type": "code",
      "source": [],
      "metadata": {
        "id": "deiMYgu7kbKP"
      },
      "execution_count": null,
      "outputs": []
    },
    {
      "cell_type": "code",
      "source": [],
      "metadata": {
        "id": "Gm7WKHxpNpDG"
      },
      "execution_count": null,
      "outputs": []
    },
    {
      "cell_type": "markdown",
      "source": [
        "# Tarefa 4: Tratar a coluna storage"
      ],
      "metadata": {
        "id": "At8RplcePycr"
      }
    },
    {
      "cell_type": "markdown",
      "source": [
        "Usar a query_engine para transformar os valores da coluna Storage em números inteiros, representando a capacidade de armazenamento em gigabytes (GB) ."
      ],
      "metadata": {
        "id": "287UGMPVn30Y"
      }
    },
    {
      "cell_type": "code",
      "source": [],
      "metadata": {
        "id": "oVjTBI1FNutl"
      },
      "execution_count": null,
      "outputs": []
    },
    {
      "cell_type": "code",
      "source": [],
      "metadata": {
        "id": "VUZblGVEQW2x"
      },
      "execution_count": null,
      "outputs": []
    },
    {
      "cell_type": "code",
      "source": [],
      "metadata": {
        "id": "94iJYkpdR_ep"
      },
      "execution_count": null,
      "outputs": []
    },
    {
      "cell_type": "code",
      "source": [],
      "metadata": {
        "id": "23m1KfwnWXFs"
      },
      "execution_count": null,
      "outputs": []
    },
    {
      "cell_type": "code",
      "source": [],
      "metadata": {
        "id": "vnQ8VtvWTrO_"
      },
      "execution_count": null,
      "outputs": []
    },
    {
      "cell_type": "code",
      "source": [],
      "metadata": {
        "id": "tbiTyQvsTuLl"
      },
      "execution_count": null,
      "outputs": []
    },
    {
      "cell_type": "code",
      "source": [],
      "metadata": {
        "id": "B50RNkFMV6DL"
      },
      "execution_count": null,
      "outputs": []
    },
    {
      "cell_type": "code",
      "source": [],
      "metadata": {
        "id": "E18bZrJ0i9Ma"
      },
      "execution_count": null,
      "outputs": []
    },
    {
      "cell_type": "markdown",
      "source": [
        "# Tarefa 5 - Dividir em X e y"
      ],
      "metadata": {
        "id": "fZjobHk2rQNk"
      }
    },
    {
      "cell_type": "markdown",
      "source": [
        "Usar a query_engine para retornar o DataFrame sem a coluna Price. E retornar apenas a coluna price em segundo momento."
      ],
      "metadata": {
        "id": "Z4San4auoISY"
      }
    },
    {
      "cell_type": "code",
      "source": [],
      "metadata": {
        "id": "A4NMtYgRsHjO"
      },
      "execution_count": null,
      "outputs": []
    },
    {
      "cell_type": "code",
      "source": [],
      "metadata": {
        "id": "qIgyQqaPrPqU"
      },
      "execution_count": null,
      "outputs": []
    },
    {
      "cell_type": "code",
      "source": [],
      "metadata": {
        "id": "TPfXcLcFiz0-"
      },
      "execution_count": null,
      "outputs": []
    },
    {
      "cell_type": "code",
      "source": [],
      "metadata": {
        "id": "a4nGZCB3sq7o"
      },
      "execution_count": null,
      "outputs": []
    },
    {
      "cell_type": "code",
      "source": [],
      "metadata": {
        "id": "gbKXK3vzssaP"
      },
      "execution_count": null,
      "outputs": []
    },
    {
      "cell_type": "code",
      "source": [],
      "metadata": {
        "id": "xbXVNk3cs0Ko"
      },
      "execution_count": null,
      "outputs": []
    },
    {
      "cell_type": "code",
      "source": [],
      "metadata": {
        "id": "lxYfICwpt5mh"
      },
      "execution_count": null,
      "outputs": []
    },
    {
      "cell_type": "markdown",
      "source": [
        "# Tarefa 6: Perguntar sobre o train_test_split"
      ],
      "metadata": {
        "id": "TtdBfnFYvNHy"
      }
    },
    {
      "cell_type": "markdown",
      "source": [
        "Entender como usar o train_test_split quando os dados estão separados em X (recursos) e y (alvo).\n",
        "\n",
        "Exemplo de pergunta: `response = llm.complete(\"Se o gato de Schrödinger tivesse uma rede social, seus status seriam \"vivo\", \"morto\" ou \"é complicado\" ao mesmo tempo?\")`"
      ],
      "metadata": {
        "id": "ikn5WCUVobly"
      }
    },
    {
      "cell_type": "markdown",
      "source": [
        "https://docs.llamaindex.ai/en/stable/examples/llm/gemini/"
      ],
      "metadata": {
        "id": "FBWKZJORzEsQ"
      }
    },
    {
      "cell_type": "code",
      "source": [],
      "metadata": {
        "id": "rPq_txmnt6G_"
      },
      "execution_count": null,
      "outputs": []
    },
    {
      "cell_type": "code",
      "source": [],
      "metadata": {
        "id": "5iJwNhvzyogO"
      },
      "execution_count": null,
      "outputs": []
    },
    {
      "cell_type": "code",
      "source": [],
      "metadata": {
        "id": "vB_4f5Nqyq2r"
      },
      "execution_count": null,
      "outputs": []
    },
    {
      "cell_type": "code",
      "source": [],
      "metadata": {
        "id": "LL_BcaTgzhf4"
      },
      "execution_count": null,
      "outputs": []
    },
    {
      "cell_type": "code",
      "source": [],
      "metadata": {
        "id": "RJlOxuRVzzg0"
      },
      "execution_count": null,
      "outputs": []
    },
    {
      "cell_type": "markdown",
      "source": [
        "# Tarefa 7: Árvores de regressão"
      ],
      "metadata": {
        "id": "XCh8D0Jh2e28"
      }
    },
    {
      "cell_type": "markdown",
      "source": [
        "Aplicar árvores de regressão"
      ],
      "metadata": {
        "id": "A3mjYgmApQLa"
      }
    },
    {
      "cell_type": "code",
      "source": [],
      "metadata": {
        "id": "x1VDgf580GwQ"
      },
      "execution_count": null,
      "outputs": []
    },
    {
      "cell_type": "code",
      "source": [],
      "metadata": {
        "id": "4A-f33p92o0d"
      },
      "execution_count": null,
      "outputs": []
    },
    {
      "cell_type": "code",
      "source": [],
      "metadata": {
        "id": "xBgfSvvc2r9Z"
      },
      "execution_count": null,
      "outputs": []
    },
    {
      "cell_type": "code",
      "source": [],
      "metadata": {
        "id": "0oS5xUTe20l5"
      },
      "execution_count": null,
      "outputs": []
    },
    {
      "cell_type": "markdown",
      "source": [
        "# Tarefa 8: Interpretação\n",
        "\n",
        "Descobrir como usar a biblioteca shap para descobrir quais as features mais importantes para o modelo de ML"
      ],
      "metadata": {
        "id": "a5q72bqrd0Vp"
      }
    },
    {
      "cell_type": "code",
      "source": [],
      "metadata": {
        "id": "t5XTluDw3i27"
      },
      "execution_count": null,
      "outputs": []
    },
    {
      "cell_type": "code",
      "source": [],
      "metadata": {
        "id": "7MqY_rYqgh3x"
      },
      "execution_count": null,
      "outputs": []
    },
    {
      "cell_type": "code",
      "source": [],
      "metadata": {
        "id": "yF0OkyaTgkUX"
      },
      "execution_count": null,
      "outputs": []
    },
    {
      "cell_type": "code",
      "source": [],
      "metadata": {
        "id": "SYmYEb76g2e2"
      },
      "execution_count": null,
      "outputs": []
    },
    {
      "cell_type": "code",
      "source": [],
      "metadata": {
        "id": "NvFAl9O5g528"
      },
      "execution_count": null,
      "outputs": []
    },
    {
      "cell_type": "code",
      "source": [],
      "metadata": {
        "id": "whG0YBhNg90I"
      },
      "execution_count": null,
      "outputs": []
    },
    {
      "cell_type": "code",
      "source": [],
      "metadata": {
        "id": "G7A2KGhWhLnA"
      },
      "execution_count": null,
      "outputs": []
    },
    {
      "cell_type": "code",
      "source": [],
      "metadata": {
        "id": "ar9WuPTJhQtt"
      },
      "execution_count": null,
      "outputs": []
    }
  ]
}