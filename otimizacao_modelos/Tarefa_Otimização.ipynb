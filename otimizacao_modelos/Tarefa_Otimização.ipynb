{
  "nbformat": 4,
  "nbformat_minor": 0,
  "metadata": {
    "colab": {
      "provenance": []
    },
    "kernelspec": {
      "name": "python3",
      "display_name": "Python 3"
    },
    "language_info": {
      "name": "python"
    }
  },
  "cells": [
    {
      "cell_type": "markdown",
      "source": [
        "# Otimização de Produção"
      ],
      "metadata": {
        "id": "jTgfT4oIrxn7"
      }
    },
    {
      "cell_type": "markdown",
      "source": [
        "Uma fábrica produz dois produtos: Produto A e Produto B . Cada produto requer certas quantidades de recursos (mão de obra e matéria-prima) e gera um lucro específico. A fábrica tem limitações nos recursos disponíveis. O objetivo é determinar quantas unidades de cada produto devem ser produzidas para maximizar o lucro total."
      ],
      "metadata": {
        "id": "DI0GbtVXimpk"
      }
    },
    {
      "cell_type": "markdown",
      "source": [
        "Recursos Disponíveis\n",
        "\n",
        "Mão de Obra : 10 horas\n",
        "\n",
        "Matéria-Prima : 15 kg"
      ],
      "metadata": {
        "id": "bx9yzx4umreB"
      }
    },
    {
      "cell_type": "code",
      "source": [
        "!pip install pulp"
      ],
      "metadata": {
        "id": "45Lj6bqSlNSB"
      },
      "execution_count": null,
      "outputs": []
    },
    {
      "cell_type": "code",
      "execution_count": null,
      "metadata": {
        "id": "xWsRSn5ZiTze"
      },
      "outputs": [],
      "source": []
    },
    {
      "cell_type": "markdown",
      "source": [
        "# Problema de logística"
      ],
      "metadata": {
        "id": "TEoaWVjbtJHk"
      }
    },
    {
      "cell_type": "markdown",
      "source": [
        "#### **Contexto**\n",
        "Você foi contratado para ajudar uma empresa de logística a otimizar as rotas de entrega de seus veículos. O problema é conhecido como **Problema do Caixeiro Viajante (PCV)**, onde o objetivo é encontrar a rota mais curta que visite todas as cidades exatamente uma vez e retorne à cidade inicial.\n",
        "\n",
        "#### **Descrição do Problema**\n",
        "Dado um conjunto de 5 cidades localizadas em um plano 2D, você deve determinar a ordem ideal de visitação para minimizar a distância total percorrida. A distância entre duas cidades é calculada usando a **distância euclidiana**:\n",
        "$$\n",
        "d(c_i, c_j) = \\sqrt{(x_i - x_j)^2 + (y_i - y_j)^2},\n",
        "$$\n",
        "onde $(x_i, y_i)$ e $(x_j, y_j)$ são as coordenadas das cidades $c_i$ e $c_j$, respectivamente.\n",
        "\n",
        "#### **Arquivo Fornecido**\n",
        "1. **`coordenadas.csv`**: Um arquivo contendo as coordenadas $(x, y)$ de cada cidade.\n",
        "   ```\n",
        "   Cidade,X,Y\n",
        "   A,0,0\n",
        "   B,3,4\n",
        "   C,7,1\n",
        "   D,6,6\n",
        "   E,2,5\n",
        "   ```\n",
        "\n",
        "#### **Objetivo**\n",
        "Sua tarefa é implementar um algoritmo genético para resolver o PCV. O algoritmo deve encontrar a rota que minimiza a distância total percorrida, seguindo estas etapas:\n",
        "1. **Leitura dos Dados**: Leia o arquivo `coordenadas.csv` e extraia as coordenadas das cidades.\n",
        "2. **Cálculo das Distâncias**: Calcule a matriz de distâncias entre todas as cidades usando a fórmula da distância euclidiana.\n",
        "3. **Representação da Solução**: Cada solução (indivíduo) deve ser representada como uma permutação das cidades (ex.: $[A, B, C, D, E]$).\n",
        "4. **Função Objetivo**: Calcule a distância total da rota usando a matriz de distâncias que você gerou.\n",
        "5. **Operadores Genéticos**:\n",
        "   - **Seleção**: Escolha os indivíduos mais aptos para reprodução.\n",
        "   - **Crossover**: Combine partes de duas rotas \"pais\" para gerar novas rotas \"filhas\".\n",
        "   - **Mutação**: Altere aleatoriamente partes de uma rota para introduzir diversidade.\n",
        "6. **Critério de Parada**: Execute o algoritmo por um número fixo de gerações ou até que uma solução satisfatória seja encontrada.\n",
        "\n",
        "#### **Saída Esperada**\n",
        "Seu programa deve imprimir:\n",
        "1. A melhor rota encontrada (ordem das cidades).\n",
        "2. A distância total correspondente a essa rota.\n",
        "\n",
        "#### **Exemplo de Saída**\n",
        "```\n",
        "Melhor rota: [A, B, E, D, C]\n",
        "Distância total: 22.34\n",
        "```\n",
        "\n",
        "#### **Dicas**\n",
        "- Use a fórmula da distância euclidiana para calcular as distâncias entre as cidades.\n",
        "- Armazene as distâncias em uma matriz para facilitar os cálculos durante a execução do algoritmo genético.\n",
        "- Inicie com uma população pequena (ex.: 10 indivíduos) e aumente conforme necessário.\n",
        "- Teste diferentes taxas de crossover e mutação para melhorar os resultados."
      ],
      "metadata": {
        "id": "tcLrEooZtRRm"
      }
    },
    {
      "cell_type": "markdown",
      "source": [
        "# Solução"
      ],
      "metadata": {
        "id": "m7bCOVqIwPFQ"
      }
    },
    {
      "cell_type": "markdown",
      "source": [
        "Vou resolver o problema do caixeiro viajante (TSP) para as 5 cidades fornecidas usando algoritmos genéticos da biblioteca SciPy. Primeiro, vamos carregar os dados e visualizar as cidades no plano 2D."
      ],
      "metadata": {
        "id": "jbGsJeyOwRu-"
      }
    },
    {
      "cell_type": "code",
      "source": [],
      "metadata": {
        "id": "AodsoISbzg97"
      },
      "execution_count": null,
      "outputs": []
    },
    {
      "cell_type": "code",
      "source": [],
      "metadata": {
        "id": "S6WBC2Ptzk9a"
      },
      "execution_count": null,
      "outputs": []
    },
    {
      "cell_type": "code",
      "source": [],
      "metadata": {
        "id": "03r9wQ5c0aNf"
      },
      "execution_count": null,
      "outputs": []
    },
    {
      "cell_type": "code",
      "source": [],
      "metadata": {
        "id": "OVhQKsrA0c3K"
      },
      "execution_count": null,
      "outputs": []
    },
    {
      "cell_type": "code",
      "source": [],
      "metadata": {
        "id": "dnBEAQeM0kTn"
      },
      "execution_count": null,
      "outputs": []
    },
    {
      "cell_type": "code",
      "source": [],
      "metadata": {
        "id": "hpmzTb3N0w1Q"
      },
      "execution_count": null,
      "outputs": []
    },
    {
      "cell_type": "code",
      "source": [],
      "metadata": {
        "id": "P0O2lXkw0zUs"
      },
      "execution_count": null,
      "outputs": []
    },
    {
      "cell_type": "code",
      "source": [],
      "metadata": {
        "id": "boSlT7lE022w"
      },
      "execution_count": null,
      "outputs": []
    },
    {
      "cell_type": "code",
      "source": [],
      "metadata": {
        "id": "w93swjYb04Nm"
      },
      "execution_count": null,
      "outputs": []
    },
    {
      "cell_type": "code",
      "source": [],
      "metadata": {
        "id": "H25gxpmu05nO"
      },
      "execution_count": null,
      "outputs": []
    },
    {
      "cell_type": "code",
      "source": [],
      "metadata": {
        "id": "aYT6r5oV079V"
      },
      "execution_count": null,
      "outputs": []
    },
    {
      "cell_type": "code",
      "source": [],
      "metadata": {
        "id": "-fr8sBeLzst6"
      },
      "execution_count": null,
      "outputs": []
    },
    {
      "cell_type": "code",
      "source": [],
      "metadata": {
        "id": "vwFeXG5Q0Arh"
      },
      "execution_count": null,
      "outputs": []
    }
  ]
}