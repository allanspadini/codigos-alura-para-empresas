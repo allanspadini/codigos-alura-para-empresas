{
  "nbformat": 4,
  "nbformat_minor": 0,
  "metadata": {
    "colab": {
      "provenance": []
    },
    "kernelspec": {
      "name": "python3",
      "display_name": "Python 3"
    },
    "language_info": {
      "name": "python"
    }
  },
  "cells": [
    {
      "cell_type": "markdown",
      "source": [
        "# Classificação tabular"
      ],
      "metadata": {
        "id": "3osSJsagjpfD"
      }
    },
    {
      "cell_type": "markdown",
      "source": [
        "### 🌾 **Classificação de Sementes de Trigo - Explicação Inicial**  \n",
        "\n",
        "Este conjunto de dados contém **medidas físicas de sementes de trigo** e tem como objetivo a **classificação da espécie** com base nessas características. Cada linha representa uma semente e inclui as seguintes informações:  \n",
        "\n",
        "🔹 **Características das sementes:**  \n",
        "- **Área**: Tamanho da superfície da semente.  \n",
        "- **Perímetro**: Medida do contorno da semente.  \n",
        "- **Compacidade**: Grau de proximidade entre as partes da semente.  \n",
        "- **Comprimento**: Tamanho longitudinal da semente.  \n",
        "- **Largura**: Largura máxima da semente.  \n",
        "- **Assimetria**: Diferença na forma da semente em relação a um eixo.  \n",
        "- **Comprimento do sulco**: Medida do sulco central da semente.  \n",
        "\n",
        "🔹 **Classe de saída:**  \n",
        "- **Espécie**: Representa o tipo de semente de trigo (0, 1 ou 2), indicando a qual variedade ela pertence.  \n",
        "\n",
        "O objetivo do problema é utilizar essas medidas para treinar um modelo de **classificação supervisionada**, permitindo identificar corretamente a espécie de uma nova semente com base nas suas características. 🚀🌾"
      ],
      "metadata": {
        "id": "0iU3CCGZQT_B"
      }
    },
    {
      "cell_type": "code",
      "source": [
        "import pandas as pd"
      ],
      "metadata": {
        "id": "_lMWVaKAhwHq"
      },
      "execution_count": null,
      "outputs": []
    },
    {
      "cell_type": "code",
      "execution_count": null,
      "metadata": {
        "colab": {
          "base_uri": "https://localhost:8080/",
          "height": 206
        },
        "id": "gnTt1B4Ehhaf",
        "outputId": "d11d620b-dec5-42df-bbaa-94fe33dea6b6"
      },
      "outputs": [
        {
          "output_type": "execute_result",
          "data": {
            "text/plain": [
              "    Área  Perímetro  Compacidade  Comprimento  Largura  Assimetria  \\\n",
              "0  15.26      14.84      871.000        5.763    3.312       2.221   \n",
              "1  14.88      14.57        8.811        5.554    3.333       1.018   \n",
              "2  14.29      14.09      905.000        5.291    3.337       2.699   \n",
              "3  13.84      13.94        8.955        5.324    3.379       2.259   \n",
              "4  16.14      14.99        9.034        5.658    3.562       1.355   \n",
              "\n",
              "   Comprimento do sulco  Espécie  \n",
              "0                 5.220        0  \n",
              "1                 4.956        0  \n",
              "2                 4.825        0  \n",
              "3                 4.805        0  \n",
              "4                 5.175        0  "
            ],
            "text/html": [
              "\n",
              "  <div id=\"df-d76ea4ea-717f-4182-a18f-a6e3fa46dcb3\" class=\"colab-df-container\">\n",
              "    <div>\n",
              "<style scoped>\n",
              "    .dataframe tbody tr th:only-of-type {\n",
              "        vertical-align: middle;\n",
              "    }\n",
              "\n",
              "    .dataframe tbody tr th {\n",
              "        vertical-align: top;\n",
              "    }\n",
              "\n",
              "    .dataframe thead th {\n",
              "        text-align: right;\n",
              "    }\n",
              "</style>\n",
              "<table border=\"1\" class=\"dataframe\">\n",
              "  <thead>\n",
              "    <tr style=\"text-align: right;\">\n",
              "      <th></th>\n",
              "      <th>Área</th>\n",
              "      <th>Perímetro</th>\n",
              "      <th>Compacidade</th>\n",
              "      <th>Comprimento</th>\n",
              "      <th>Largura</th>\n",
              "      <th>Assimetria</th>\n",
              "      <th>Comprimento do sulco</th>\n",
              "      <th>Espécie</th>\n",
              "    </tr>\n",
              "  </thead>\n",
              "  <tbody>\n",
              "    <tr>\n",
              "      <th>0</th>\n",
              "      <td>15.26</td>\n",
              "      <td>14.84</td>\n",
              "      <td>871.000</td>\n",
              "      <td>5.763</td>\n",
              "      <td>3.312</td>\n",
              "      <td>2.221</td>\n",
              "      <td>5.220</td>\n",
              "      <td>0</td>\n",
              "    </tr>\n",
              "    <tr>\n",
              "      <th>1</th>\n",
              "      <td>14.88</td>\n",
              "      <td>14.57</td>\n",
              "      <td>8.811</td>\n",
              "      <td>5.554</td>\n",
              "      <td>3.333</td>\n",
              "      <td>1.018</td>\n",
              "      <td>4.956</td>\n",
              "      <td>0</td>\n",
              "    </tr>\n",
              "    <tr>\n",
              "      <th>2</th>\n",
              "      <td>14.29</td>\n",
              "      <td>14.09</td>\n",
              "      <td>905.000</td>\n",
              "      <td>5.291</td>\n",
              "      <td>3.337</td>\n",
              "      <td>2.699</td>\n",
              "      <td>4.825</td>\n",
              "      <td>0</td>\n",
              "    </tr>\n",
              "    <tr>\n",
              "      <th>3</th>\n",
              "      <td>13.84</td>\n",
              "      <td>13.94</td>\n",
              "      <td>8.955</td>\n",
              "      <td>5.324</td>\n",
              "      <td>3.379</td>\n",
              "      <td>2.259</td>\n",
              "      <td>4.805</td>\n",
              "      <td>0</td>\n",
              "    </tr>\n",
              "    <tr>\n",
              "      <th>4</th>\n",
              "      <td>16.14</td>\n",
              "      <td>14.99</td>\n",
              "      <td>9.034</td>\n",
              "      <td>5.658</td>\n",
              "      <td>3.562</td>\n",
              "      <td>1.355</td>\n",
              "      <td>5.175</td>\n",
              "      <td>0</td>\n",
              "    </tr>\n",
              "  </tbody>\n",
              "</table>\n",
              "</div>\n",
              "    <div class=\"colab-df-buttons\">\n",
              "\n",
              "  <div class=\"colab-df-container\">\n",
              "    <button class=\"colab-df-convert\" onclick=\"convertToInteractive('df-d76ea4ea-717f-4182-a18f-a6e3fa46dcb3')\"\n",
              "            title=\"Convert this dataframe to an interactive table.\"\n",
              "            style=\"display:none;\">\n",
              "\n",
              "  <svg xmlns=\"http://www.w3.org/2000/svg\" height=\"24px\" viewBox=\"0 -960 960 960\">\n",
              "    <path d=\"M120-120v-720h720v720H120Zm60-500h600v-160H180v160Zm220 220h160v-160H400v160Zm0 220h160v-160H400v160ZM180-400h160v-160H180v160Zm440 0h160v-160H620v160ZM180-180h160v-160H180v160Zm440 0h160v-160H620v160Z\"/>\n",
              "  </svg>\n",
              "    </button>\n",
              "\n",
              "  <style>\n",
              "    .colab-df-container {\n",
              "      display:flex;\n",
              "      gap: 12px;\n",
              "    }\n",
              "\n",
              "    .colab-df-convert {\n",
              "      background-color: #E8F0FE;\n",
              "      border: none;\n",
              "      border-radius: 50%;\n",
              "      cursor: pointer;\n",
              "      display: none;\n",
              "      fill: #1967D2;\n",
              "      height: 32px;\n",
              "      padding: 0 0 0 0;\n",
              "      width: 32px;\n",
              "    }\n",
              "\n",
              "    .colab-df-convert:hover {\n",
              "      background-color: #E2EBFA;\n",
              "      box-shadow: 0px 1px 2px rgba(60, 64, 67, 0.3), 0px 1px 3px 1px rgba(60, 64, 67, 0.15);\n",
              "      fill: #174EA6;\n",
              "    }\n",
              "\n",
              "    .colab-df-buttons div {\n",
              "      margin-bottom: 4px;\n",
              "    }\n",
              "\n",
              "    [theme=dark] .colab-df-convert {\n",
              "      background-color: #3B4455;\n",
              "      fill: #D2E3FC;\n",
              "    }\n",
              "\n",
              "    [theme=dark] .colab-df-convert:hover {\n",
              "      background-color: #434B5C;\n",
              "      box-shadow: 0px 1px 3px 1px rgba(0, 0, 0, 0.15);\n",
              "      filter: drop-shadow(0px 1px 2px rgba(0, 0, 0, 0.3));\n",
              "      fill: #FFFFFF;\n",
              "    }\n",
              "  </style>\n",
              "\n",
              "    <script>\n",
              "      const buttonEl =\n",
              "        document.querySelector('#df-d76ea4ea-717f-4182-a18f-a6e3fa46dcb3 button.colab-df-convert');\n",
              "      buttonEl.style.display =\n",
              "        google.colab.kernel.accessAllowed ? 'block' : 'none';\n",
              "\n",
              "      async function convertToInteractive(key) {\n",
              "        const element = document.querySelector('#df-d76ea4ea-717f-4182-a18f-a6e3fa46dcb3');\n",
              "        const dataTable =\n",
              "          await google.colab.kernel.invokeFunction('convertToInteractive',\n",
              "                                                    [key], {});\n",
              "        if (!dataTable) return;\n",
              "\n",
              "        const docLinkHtml = 'Like what you see? Visit the ' +\n",
              "          '<a target=\"_blank\" href=https://colab.research.google.com/notebooks/data_table.ipynb>data table notebook</a>'\n",
              "          + ' to learn more about interactive tables.';\n",
              "        element.innerHTML = '';\n",
              "        dataTable['output_type'] = 'display_data';\n",
              "        await google.colab.output.renderOutput(dataTable, element);\n",
              "        const docLink = document.createElement('div');\n",
              "        docLink.innerHTML = docLinkHtml;\n",
              "        element.appendChild(docLink);\n",
              "      }\n",
              "    </script>\n",
              "  </div>\n",
              "\n",
              "\n",
              "<div id=\"df-4a6c45fe-206d-495e-bbe5-cebed10a3b34\">\n",
              "  <button class=\"colab-df-quickchart\" onclick=\"quickchart('df-4a6c45fe-206d-495e-bbe5-cebed10a3b34')\"\n",
              "            title=\"Suggest charts\"\n",
              "            style=\"display:none;\">\n",
              "\n",
              "<svg xmlns=\"http://www.w3.org/2000/svg\" height=\"24px\"viewBox=\"0 0 24 24\"\n",
              "     width=\"24px\">\n",
              "    <g>\n",
              "        <path d=\"M19 3H5c-1.1 0-2 .9-2 2v14c0 1.1.9 2 2 2h14c1.1 0 2-.9 2-2V5c0-1.1-.9-2-2-2zM9 17H7v-7h2v7zm4 0h-2V7h2v10zm4 0h-2v-4h2v4z\"/>\n",
              "    </g>\n",
              "</svg>\n",
              "  </button>\n",
              "\n",
              "<style>\n",
              "  .colab-df-quickchart {\n",
              "      --bg-color: #E8F0FE;\n",
              "      --fill-color: #1967D2;\n",
              "      --hover-bg-color: #E2EBFA;\n",
              "      --hover-fill-color: #174EA6;\n",
              "      --disabled-fill-color: #AAA;\n",
              "      --disabled-bg-color: #DDD;\n",
              "  }\n",
              "\n",
              "  [theme=dark] .colab-df-quickchart {\n",
              "      --bg-color: #3B4455;\n",
              "      --fill-color: #D2E3FC;\n",
              "      --hover-bg-color: #434B5C;\n",
              "      --hover-fill-color: #FFFFFF;\n",
              "      --disabled-bg-color: #3B4455;\n",
              "      --disabled-fill-color: #666;\n",
              "  }\n",
              "\n",
              "  .colab-df-quickchart {\n",
              "    background-color: var(--bg-color);\n",
              "    border: none;\n",
              "    border-radius: 50%;\n",
              "    cursor: pointer;\n",
              "    display: none;\n",
              "    fill: var(--fill-color);\n",
              "    height: 32px;\n",
              "    padding: 0;\n",
              "    width: 32px;\n",
              "  }\n",
              "\n",
              "  .colab-df-quickchart:hover {\n",
              "    background-color: var(--hover-bg-color);\n",
              "    box-shadow: 0 1px 2px rgba(60, 64, 67, 0.3), 0 1px 3px 1px rgba(60, 64, 67, 0.15);\n",
              "    fill: var(--button-hover-fill-color);\n",
              "  }\n",
              "\n",
              "  .colab-df-quickchart-complete:disabled,\n",
              "  .colab-df-quickchart-complete:disabled:hover {\n",
              "    background-color: var(--disabled-bg-color);\n",
              "    fill: var(--disabled-fill-color);\n",
              "    box-shadow: none;\n",
              "  }\n",
              "\n",
              "  .colab-df-spinner {\n",
              "    border: 2px solid var(--fill-color);\n",
              "    border-color: transparent;\n",
              "    border-bottom-color: var(--fill-color);\n",
              "    animation:\n",
              "      spin 1s steps(1) infinite;\n",
              "  }\n",
              "\n",
              "  @keyframes spin {\n",
              "    0% {\n",
              "      border-color: transparent;\n",
              "      border-bottom-color: var(--fill-color);\n",
              "      border-left-color: var(--fill-color);\n",
              "    }\n",
              "    20% {\n",
              "      border-color: transparent;\n",
              "      border-left-color: var(--fill-color);\n",
              "      border-top-color: var(--fill-color);\n",
              "    }\n",
              "    30% {\n",
              "      border-color: transparent;\n",
              "      border-left-color: var(--fill-color);\n",
              "      border-top-color: var(--fill-color);\n",
              "      border-right-color: var(--fill-color);\n",
              "    }\n",
              "    40% {\n",
              "      border-color: transparent;\n",
              "      border-right-color: var(--fill-color);\n",
              "      border-top-color: var(--fill-color);\n",
              "    }\n",
              "    60% {\n",
              "      border-color: transparent;\n",
              "      border-right-color: var(--fill-color);\n",
              "    }\n",
              "    80% {\n",
              "      border-color: transparent;\n",
              "      border-right-color: var(--fill-color);\n",
              "      border-bottom-color: var(--fill-color);\n",
              "    }\n",
              "    90% {\n",
              "      border-color: transparent;\n",
              "      border-bottom-color: var(--fill-color);\n",
              "    }\n",
              "  }\n",
              "</style>\n",
              "\n",
              "  <script>\n",
              "    async function quickchart(key) {\n",
              "      const quickchartButtonEl =\n",
              "        document.querySelector('#' + key + ' button');\n",
              "      quickchartButtonEl.disabled = true;  // To prevent multiple clicks.\n",
              "      quickchartButtonEl.classList.add('colab-df-spinner');\n",
              "      try {\n",
              "        const charts = await google.colab.kernel.invokeFunction(\n",
              "            'suggestCharts', [key], {});\n",
              "      } catch (error) {\n",
              "        console.error('Error during call to suggestCharts:', error);\n",
              "      }\n",
              "      quickchartButtonEl.classList.remove('colab-df-spinner');\n",
              "      quickchartButtonEl.classList.add('colab-df-quickchart-complete');\n",
              "    }\n",
              "    (() => {\n",
              "      let quickchartButtonEl =\n",
              "        document.querySelector('#df-4a6c45fe-206d-495e-bbe5-cebed10a3b34 button');\n",
              "      quickchartButtonEl.style.display =\n",
              "        google.colab.kernel.accessAllowed ? 'block' : 'none';\n",
              "    })();\n",
              "  </script>\n",
              "</div>\n",
              "\n",
              "    </div>\n",
              "  </div>\n"
            ],
            "application/vnd.google.colaboratory.intrinsic+json": {
              "type": "dataframe",
              "variable_name": "dados",
              "summary": "{\n  \"name\": \"dados\",\n  \"rows\": 210,\n  \"fields\": [\n    {\n      \"column\": \"\\u00c1rea\",\n      \"properties\": {\n        \"dtype\": \"number\",\n        \"std\": 2.909699430687361,\n        \"min\": 10.59,\n        \"max\": 21.18,\n        \"num_unique_values\": 193,\n        \"samples\": [\n          14.86,\n          12.49,\n          16.53\n        ],\n        \"semantic_type\": \"\",\n        \"description\": \"\"\n      }\n    },\n    {\n      \"column\": \"Per\\u00edmetro\",\n      \"properties\": {\n        \"dtype\": \"number\",\n        \"std\": 1.305958726564022,\n        \"min\": 12.41,\n        \"max\": 17.25,\n        \"num_unique_values\": 170,\n        \"samples\": [\n          13.45,\n          14.41,\n          13.92\n        ],\n        \"semantic_type\": \"\",\n        \"description\": \"\"\n      }\n    },\n    {\n      \"column\": \"Compacidade\",\n      \"properties\": {\n        \"dtype\": \"number\",\n        \"std\": 276.31853657617194,\n        \"min\": 0.88,\n        \"max\": 905.0,\n        \"num_unique_values\": 186,\n        \"samples\": [\n          9.064,\n          856.0,\n          8.372\n        ],\n        \"semantic_type\": \"\",\n        \"description\": \"\"\n      }\n    },\n    {\n      \"column\": \"Comprimento\",\n      \"properties\": {\n        \"dtype\": \"number\",\n        \"std\": 0.44306347772644916,\n        \"min\": 4.899,\n        \"max\": 6.675,\n        \"num_unique_values\": 188,\n        \"samples\": [\n          5.183,\n          5.186,\n          5.205\n        ],\n        \"semantic_type\": \"\",\n        \"description\": \"\"\n      }\n    },\n    {\n      \"column\": \"Largura\",\n      \"properties\": {\n        \"dtype\": \"number\",\n        \"std\": 0.37771444490658723,\n        \"min\": 2.63,\n        \"max\": 4.033,\n        \"num_unique_values\": 184,\n        \"samples\": [\n          3.168,\n          3.393,\n          2.641\n        ],\n        \"semantic_type\": \"\",\n        \"description\": \"\"\n      }\n    },\n    {\n      \"column\": \"Assimetria\",\n      \"properties\": {\n        \"dtype\": \"number\",\n        \"std\": 62.070564419181565,\n        \"min\": 1.018,\n        \"max\": 903.0,\n        \"num_unique_values\": 207,\n        \"samples\": [\n          6.388,\n          4.185,\n          4.92\n        ],\n        \"semantic_type\": \"\",\n        \"description\": \"\"\n      }\n    },\n    {\n      \"column\": \"Comprimento do sulco\",\n      \"properties\": {\n        \"dtype\": \"number\",\n        \"std\": 0.49148049910240543,\n        \"min\": 4.519,\n        \"max\": 6.55,\n        \"num_unique_values\": 148,\n        \"samples\": [\n          5.308,\n          4.703,\n          4.957\n        ],\n        \"semantic_type\": \"\",\n        \"description\": \"\"\n      }\n    },\n    {\n      \"column\": \"Esp\\u00e9cie\",\n      \"properties\": {\n        \"dtype\": \"number\",\n        \"std\": 0,\n        \"min\": 0,\n        \"max\": 2,\n        \"num_unique_values\": 3,\n        \"samples\": [\n          0,\n          1,\n          2\n        ],\n        \"semantic_type\": \"\",\n        \"description\": \"\"\n      }\n    }\n  ]\n}"
            }
          },
          "metadata": {},
          "execution_count": 3
        }
      ],
      "source": [
        "dados = pd.read_csv('https://raw.githubusercontent.com/alura-cursos/Primeiros_passos_pytorch/main/sementes.csv')\n",
        "dados.head()"
      ]
    },
    {
      "cell_type": "code",
      "source": [
        "dados['Espécie'].unique()"
      ],
      "metadata": {
        "colab": {
          "base_uri": "https://localhost:8080/"
        },
        "id": "sDxDIuVWBTOU",
        "outputId": "c66eb2c1-939d-49ee-b76b-717966098afa"
      },
      "execution_count": null,
      "outputs": [
        {
          "output_type": "execute_result",
          "data": {
            "text/plain": [
              "array([0, 1, 2])"
            ]
          },
          "metadata": {},
          "execution_count": 4
        }
      ]
    },
    {
      "cell_type": "code",
      "source": [
        "X = dados.drop(['Espécie'],axis=1).values\n",
        "y = dados['Espécie'].values"
      ],
      "metadata": {
        "id": "VIy8Gdo3hzpz"
      },
      "execution_count": null,
      "outputs": []
    },
    {
      "cell_type": "code",
      "source": [
        "from sklearn.model_selection import train_test_split\n",
        "X_treino,X_teste,y_treino,y_teste = train_test_split(X,y,test_size=0.2,stratify=y,random_state=42)"
      ],
      "metadata": {
        "id": "7X6HhR1GA-3X"
      },
      "execution_count": null,
      "outputs": []
    },
    {
      "cell_type": "code",
      "source": [
        "import torch\n",
        "import torch.nn as nn\n",
        "import torch.optim as optim\n",
        "from torch.utils.data import DataLoader, TensorDataset\n",
        "\n",
        "from sklearn.preprocessing import StandardScaler"
      ],
      "metadata": {
        "id": "OMQ0UTMyCZsM"
      },
      "execution_count": null,
      "outputs": []
    },
    {
      "cell_type": "markdown",
      "source": [
        "## Normalização dos dados"
      ],
      "metadata": {
        "id": "35GJKyDzCbPd"
      }
    },
    {
      "cell_type": "markdown",
      "source": [
        "https://pytorch.org/docs/stable/tensors.html"
      ],
      "metadata": {
        "id": "YZy7iOJoEYZ7"
      }
    },
    {
      "cell_type": "markdown",
      "source": [
        "https://scikit-learn.org/stable/modules/generated/sklearn.preprocessing.StandardScaler.html"
      ],
      "metadata": {
        "id": "cOA7mR_0D56y"
      }
    },
    {
      "cell_type": "code",
      "source": [
        "scaler = StandardScaler()\n",
        "X_treino = torch.tensor(scaler.fit_transform(X_treino), dtype=torch.float32)\n",
        "X_teste = torch.tensor(scaler.transform(X_teste), dtype=torch.float32)"
      ],
      "metadata": {
        "id": "TrAKvJ0uC5M_"
      },
      "execution_count": null,
      "outputs": []
    },
    {
      "cell_type": "code",
      "source": [
        "y_treino = torch.tensor(y_treino, dtype=torch.long)\n",
        "y_teste = torch.tensor(y_teste, dtype=torch.long)"
      ],
      "metadata": {
        "id": "IEStyhbXEm_4"
      },
      "execution_count": null,
      "outputs": []
    },
    {
      "cell_type": "markdown",
      "source": [
        "## Criando DataLoaders"
      ],
      "metadata": {
        "id": "VDPRyvlpHb_2"
      }
    },
    {
      "cell_type": "code",
      "source": [
        "train_dataset = TensorDataset(X_treino, y_treino)\n",
        "test_dataset = TensorDataset(X_teste, y_teste)\n",
        "\n",
        "train_loader = DataLoader(train_dataset, batch_size=32, shuffle=True)\n",
        "test_loader = DataLoader(test_dataset, batch_size=32, shuffle=False)"
      ],
      "metadata": {
        "id": "U6_IY2jgHgBh"
      },
      "execution_count": null,
      "outputs": []
    },
    {
      "cell_type": "markdown",
      "source": [
        "## Definição da Rede Neural"
      ],
      "metadata": {
        "id": "ZkQpQNd9H6iB"
      }
    },
    {
      "cell_type": "markdown",
      "source": [
        "https://pytorch.org/docs/stable/generated/torch.nn.Module.html"
      ],
      "metadata": {
        "id": "ZBNrfFDoIcuW"
      }
    },
    {
      "cell_type": "code",
      "source": [
        "# Definição da Rede Neural\n",
        "class Classifier(nn.Module):\n",
        "    def __init__(self, input_size, hidden_size, output_size):\n",
        "        super(Classifier, self).__init__()\n",
        "        self.fc1 = nn.Linear(input_size, hidden_size)\n",
        "        self.relu = nn.ReLU()\n",
        "        self.fc2 = nn.Linear(hidden_size, output_size)\n",
        "\n",
        "    def forward(self, x):\n",
        "        x = self.fc1(x)\n",
        "        x = self.relu(x)\n",
        "        x = self.fc2(x)\n",
        "        return x"
      ],
      "metadata": {
        "id": "hgKNIXQSHuQi"
      },
      "execution_count": null,
      "outputs": []
    },
    {
      "cell_type": "markdown",
      "source": [
        "### 📌 **O que é `nn.Linear`?**\n",
        "`nn.Linear(in_features, out_features)` é uma camada totalmente conectada (ou densa), que realiza uma transformação linear dos dados de entrada:\n",
        "\n",
        "\n",
        "$$ Y = XW^T + b $$\n",
        "\n",
        "\n",
        "onde:\n",
        "- \\( X \\) é o tensor de entrada\n",
        "- \\( W \\) são os pesos da camada\n",
        "- \\( b \\) é o bias (termo de deslocamento)\n",
        "- \\( Y \\) é a saída transformada\n",
        "\n",
        "Essa camada aprende \\( W \\) e \\( b \\) durante o treinamento para mapear a entrada na saída desejada.\n",
        "\n",
        "---\n",
        "\n",
        "### 🔹 **Explicação da Arquitetura**\n",
        "1. **Camada oculta (`self.fc1`)**  \n",
        "   ```python\n",
        "   self.fc1 = nn.Linear(input_size, hidden_size)\n",
        "   ```\n",
        "   - Converte a entrada (`input_size`) para um espaço de representação de dimensão `hidden_size`.\n",
        "   - Aprenderá pesos $ W_1 $ e bias $ b_1$ para essa transformação.\n",
        "\n",
        "2. **Ativação ReLU (`self.relu`)**  \n",
        "   ```python\n",
        "   self.relu = nn.ReLU()\n",
        "   ```\n",
        "   - Aplica a função de ativação ReLU:\n",
        "     \n",
        "     $$ f(x) = \\max(0, x) $$\n",
        "     \n",
        "   - Introduz não-linearidade, permitindo que a rede aprenda padrões mais complexos.\n",
        "\n",
        "3. **Camada de saída (`self.fc2`)**  \n",
        "   ```python\n",
        "   self.fc2 = nn.Linear(hidden_size, output_size)\n",
        "   ```\n",
        "   - Transforma a saída da camada oculta (`hidden_size`) no número final de classes (`output_size`).\n",
        "   - A saída ainda não está normalizada (logits), então usamos `CrossEntropyLoss` para lidar com isso.\n",
        "\n",
        "---\n",
        "\n",
        "### 🔥 **Fluxo de Dados (`forward`)**\n",
        "```python\n",
        "def forward(self, x):\n",
        "    x = self.fc1(x)   # Transformação linear\n",
        "    x = self.relu(x)  # Ativação ReLU\n",
        "    x = self.fc2(x)   # Segunda transformação linear\n",
        "    return x          # Saída (logits)\n",
        "```\n",
        "- A entrada passa pela primeira camada densa (`fc1`).\n",
        "- Depois, aplicamos a ativação `ReLU`, introduzindo não-linearidade.\n",
        "- Finalmente, a saída passa pela camada `fc2`, que gera 3 valores (um para cada classe).\n",
        "\n",
        "💡 **Observação:**  \n",
        "A saída do modelo são **logits** (valores não normalizados). Para obter probabilidades, aplicaríamos `nn.Softmax(dim=1)`, mas `CrossEntropyLoss` já faz isso internamente.\n",
        "\n",
        "---\n",
        "\n",
        "### 🚀 **Resumo**\n",
        "- `nn.Linear` realiza transformações lineares de entrada para saída.\n",
        "- `ReLU` adiciona não-linearidade para melhorar a capacidade de aprendizado.\n",
        "- O modelo é uma rede neural simples com **uma camada oculta** e **três neurônios de saída** (um para cada classe)."
      ],
      "metadata": {
        "id": "raGDLTOlKGSa"
      }
    },
    {
      "cell_type": "markdown",
      "source": [
        "## Definição de hiperparâmetros"
      ],
      "metadata": {
        "id": "NqLTJf1kOxVX"
      }
    },
    {
      "cell_type": "code",
      "source": [
        "# Hiperparâmetros\n",
        "input_size = X.shape[1]  # Número de features\n",
        "hidden_size = 14\n",
        "output_size = 3  # Três classes\n",
        "learning_rate = 0.01\n",
        "epochs = 20"
      ],
      "metadata": {
        "id": "zMwHasAcMREP"
      },
      "execution_count": null,
      "outputs": []
    },
    {
      "cell_type": "markdown",
      "source": [
        "### 📌 **Regras práticas para definir o número de neurônios na camada oculta**\n",
        "Como o número de features de entrada é **7**, podemos usar algumas heurísticas comuns:\n",
        "\n",
        "1️⃣ **Regra da média geométrica:**  \n",
        "$$ \\text{neurônios na camada oculta} = \\sqrt{\\text{neurônios de entrada} \\times \\text{neurônios de saída}}\n",
        "$$\n",
        "Aplicando ao nosso caso:\n",
        "$$\n",
        "h = \\sqrt{7 \\times 3} = \\sqrt{21} \\approx 4 \\text{ ou } 5\n",
        "$$\n",
        "\n",
        "2️⃣ **Regra do dobro do número de entradas:**  \n",
        "$$\n",
        "h = 2 \\times \\text{número de features} = 2 \\times 7 = 14\n",
        "$$\n",
        "Se o problema for complexo, pode ser útil começar com mais neurônios.\n",
        "\n",
        "3️⃣ **Regra do \"funil\" (entre entrada e saída):**  \n",
        "- A camada oculta geralmente tem um número intermediário de neurônios entre a entrada e a saída.\n",
        "- Um valor comum seria algo entre $  (7+3)/2 = 5;  2 \\times 7 = 14  $.\n",
        "\n",
        "---\n",
        "\n",
        "### 🚀 **Escolha prática**\n",
        "Se for um problema simples, **5 a 10 neurônios** na camada oculta pode ser um bom começo.  \n",
        "Se for um problema mais complexo, com padrões difíceis de aprender, **10 a 14 neurônios** pode ser melhor.  \n",
        "\n",
        "#### **Aplicando no código:**\n",
        "```python\n",
        "hidden_size = 5  # Ou 7, 10, 14, dependendo dos testes\n",
        "model = Classifier(input_size=7, hidden_size=hidden_size, output_size=3)\n",
        "```\n",
        "\n",
        "---\n",
        "\n",
        "### 🔥 **Melhor estratégia: Experimentação!**\n",
        "O melhor número de neurônios depende da complexidade do problema e dos dados. O ideal é testar diferentes configurações e observar a **performance no conjunto de validação**, usando técnicas como **cross-validation** ou **grid search**."
      ],
      "metadata": {
        "id": "9IVlghkVNumq"
      }
    },
    {
      "cell_type": "markdown",
      "source": [
        "## Inicialização do modelo"
      ],
      "metadata": {
        "id": "S95hqik_O7lY"
      }
    },
    {
      "cell_type": "code",
      "source": [
        "device = torch.device(\"cuda\" if torch.cuda.is_available() else \"cpu\")\n",
        "\n",
        "# Inicializando modelo, função de perda e otimizador\n",
        "model = Classifier(input_size, hidden_size, output_size).to(device)\n",
        "criterion = nn.CrossEntropyLoss()\n",
        "optimizer = optim.Adam(model.parameters(), lr=learning_rate)"
      ],
      "metadata": {
        "id": "_PPeyN5tTb_f"
      },
      "execution_count": null,
      "outputs": []
    },
    {
      "cell_type": "markdown",
      "source": [
        "## Treinamento do modelo"
      ],
      "metadata": {
        "id": "f8uiQqFEVbM2"
      }
    },
    {
      "cell_type": "code",
      "source": [
        "for epoch in range(epochs):\n",
        "    model.train()\n",
        "    total_loss = 0\n",
        "    for X_batch, y_batch in train_loader:\n",
        "        X_batch, y_batch = X_batch.to(device), y_batch.to(device)\n",
        "        optimizer.zero_grad()\n",
        "        outputs = model(X_batch)\n",
        "        loss = criterion(outputs, y_batch)\n",
        "        loss.backward()\n",
        "        optimizer.step()\n",
        "        total_loss += loss.item()\n",
        "    print(f'Epoch {epoch+1}/{epochs}, Loss: {total_loss/len(train_loader):.4f}')\n"
      ],
      "metadata": {
        "colab": {
          "base_uri": "https://localhost:8080/"
        },
        "id": "mWg6bNVOVfRL",
        "outputId": "b624c2a5-3e70-4f3d-80a2-ac50d9a0b311"
      },
      "execution_count": null,
      "outputs": [
        {
          "output_type": "stream",
          "name": "stdout",
          "text": [
            "Epoch 1/20, Loss: 0.9714\n",
            "Epoch 2/20, Loss: 0.8046\n",
            "Epoch 3/20, Loss: 0.6542\n",
            "Epoch 4/20, Loss: 0.5670\n",
            "Epoch 5/20, Loss: 0.4592\n",
            "Epoch 6/20, Loss: 0.3972\n",
            "Epoch 7/20, Loss: 0.3085\n",
            "Epoch 8/20, Loss: 0.2752\n",
            "Epoch 9/20, Loss: 0.2524\n",
            "Epoch 10/20, Loss: 0.2246\n",
            "Epoch 11/20, Loss: 0.2011\n",
            "Epoch 12/20, Loss: 0.1984\n",
            "Epoch 13/20, Loss: 0.2290\n",
            "Epoch 14/20, Loss: 0.1596\n",
            "Epoch 15/20, Loss: 0.1736\n",
            "Epoch 16/20, Loss: 0.1642\n",
            "Epoch 17/20, Loss: 0.1516\n",
            "Epoch 18/20, Loss: 0.1711\n",
            "Epoch 19/20, Loss: 0.1408\n",
            "Epoch 20/20, Loss: 0.1560\n"
          ]
        }
      ]
    },
    {
      "cell_type": "markdown",
      "source": [
        "### **1. Estrutura do loop de treinamento**\n",
        "O treinamento do modelo é dividido em **épocas** (`epochs`) e **lotes (batches)**. Cada época representa uma iteração completa sobre o conjunto de dados de treinamento, enquanto o processamento em lotes divide o conjunto de dados em partes menores para melhorar a eficiência computacional e permitir o uso de gradientes estocásticos.\n",
        "\n",
        "---\n",
        "\n",
        "### **2. Passo a passo do código**\n",
        "\n",
        "#### **(a) Loop de épocas**\n",
        "```python\n",
        "for epoch in range(epochs):\n",
        "```\n",
        "- Este loop externo controla o número total de épocas de treinamento. Cada época representa uma passagem completa pelo conjunto de dados de treinamento.\n",
        "- `epochs` é o número total de vezes que o modelo verá o conjunto de dados.\n",
        "\n",
        "#### **(b) Modo de treinamento**\n",
        "```python\n",
        "model.train()\n",
        "```\n",
        "- Coloca o modelo no **modo de treinamento**. Isso é importante porque algumas camadas (como `Dropout` ou `BatchNorm`) se comportam de forma diferente durante o treinamento e a inferência.\n",
        "- No modo de treinamento, essas camadas ajustam seus parâmetros ou aplicam regularização.\n",
        "\n",
        "#### **(c) Inicialização do total da perda**\n",
        "```python\n",
        "total_loss = 0\n",
        "```\n",
        "- Aqui, é inicializada uma variável para acumular a perda total ao longo de todos os lotes da época. Isso será usado para calcular a perda média no final da época.\n",
        "\n",
        "---\n",
        "\n",
        "### **3. Loop de lotes (batches)**\n",
        "```python\n",
        "for X_batch, y_batch in train_loader:\n",
        "```\n",
        "- Este loop interno itera sobre os dados de treinamento divididos em lotes (batches), que são fornecidos pelo `DataLoader` (`train_loader`).\n",
        "- Cada `X_batch` contém um subconjunto dos dados de entrada, e `y_batch` contém os rótulos correspondentes.\n",
        "\n",
        "#### **(a) Envio dos dados para o dispositivo**\n",
        "```python\n",
        "X_batch, y_batch = X_batch.to(device), y_batch.to(device)\n",
        "```\n",
        "- Move os dados de entrada (`X_batch`) e os rótulos (`y_batch`) para o dispositivo de computação configurado (CPU ou GPU). Isso é necessário para garantir que os dados e o modelo estejam no mesmo dispositivo durante o treinamento.\n",
        "\n",
        "#### **(b) Zerar os gradientes acumulados**\n",
        "```python\n",
        "optimizer.zero_grad()\n",
        "```\n",
        "- Zera os gradientes acumulados nos parâmetros do modelo. No PyTorch, os gradientes são acumulados por padrão, então é necessário limpá-los antes de calcular os novos gradientes para o lote atual.\n",
        "\n",
        "#### **(c) Forward pass**\n",
        "```python\n",
        "outputs = model(X_batch)\n",
        "```\n",
        "- Passa os dados de entrada (`X_batch`) pelo modelo, gerando as saídas (`outputs`), que geralmente são os logits (valores antes da aplicação de softmax).\n",
        "\n",
        "#### **(d) Cálculo da perda**\n",
        "```python\n",
        "loss = criterion(outputs, y_batch)\n",
        "```\n",
        "- Calcula a perda entre as saídas previstas pelo modelo (`outputs`) e os rótulos verdadeiros (`y_batch`) usando a função de perda definida (`criterion`, que neste caso é `CrossEntropyLoss`).\n",
        "\n",
        "#### **(e) Backward pass**\n",
        "```python\n",
        "loss.backward()\n",
        "```\n",
        "- Calcula os gradientes da perda em relação aos pesos do modelo usando o algoritmo de backpropagation. Esses gradientes são armazenados nos parâmetros do modelo (acessíveis via `model.parameters()`).\n",
        "\n",
        "#### **(f) Atualização dos pesos**\n",
        "```python\n",
        "optimizer.step()\n",
        "```\n",
        "- Atualiza os pesos do modelo usando os gradientes calculados no passo anterior. O otimizador (`optimizer`, que neste caso é `Adam`) aplica a regra de atualização apropriada com base nos gradientes e na taxa de aprendizado (`learning_rate`).\n",
        "\n",
        "#### **(g) Acumulação da perda**\n",
        "```python\n",
        "total_loss += loss.item()\n",
        "```\n",
        "- Adiciona a perda do lote atual (`loss.item()`) ao total acumulado da época (`total_loss`). O método `.item()` é usado para obter o valor escalar da perda como um número Python.\n",
        "\n",
        "---\n",
        "\n",
        "### **4. Exibição da perda média por época**\n",
        "```python\n",
        "print(f'Epoch {epoch+1}/{epochs}, Loss: {total_loss/len(train_loader):.4f}')\n",
        "```\n",
        "- Após o término de todos os lotes em uma época, calcula-se a perda média dividindo o total acumulado (`total_loss`) pelo número de lotes (`len(train_loader)`).\n",
        "- Exibe a perda média para a época atual no formato especificado.\n",
        "\n",
        "---\n",
        "\n",
        "### **Resumo do Processo**\n",
        "1. **Forward pass**: Os dados de entrada são passados pelo modelo para gerar previsões.\n",
        "2. **Cálculo da perda**: A diferença entre as previsões e os rótulos verdadeiros é avaliada usando a função de perda.\n",
        "3. **Backward pass**: Os gradientes da perda em relação aos pesos do modelo são calculados.\n",
        "4. **Atualização dos pesos**: Os pesos do modelo são atualizados pelo otimizador com base nos gradientes.\n",
        "5. **Monitoramento**: A perda média por época é calculada e exibida para acompanhar o progresso do treinamento.\n",
        "\n",
        "---\n",
        "\n",
        "### **Importância do Loop de Treinamento**\n",
        "O loop de treinamento é o coração do aprendizado em redes neurais. Ele ajusta os pesos do modelo para minimizar a função de perda e, consequentemente, melhorar o desempenho do modelo no conjunto de dados de treinamento. O objetivo final é que o modelo generalize bem para novos dados (conjunto de teste ou validação)."
      ],
      "metadata": {
        "id": "KtEZtZd1WVxD"
      }
    },
    {
      "cell_type": "markdown",
      "source": [
        "## Avaliação no conjunto de teste"
      ],
      "metadata": {
        "id": "PvweFyrjXB1K"
      }
    },
    {
      "cell_type": "code",
      "source": [
        "# Avaliação no conjunto de teste\n",
        "model.eval()\n",
        "correct = 0\n",
        "total = 0\n",
        "with torch.no_grad():\n",
        "    for X_batch, y_batch in test_loader:\n",
        "        X_batch, y_batch = X_batch.to(device), y_batch.to(device)\n",
        "        outputs = model(X_batch)\n",
        "        _, predicted = torch.max(outputs, 1)\n",
        "        total += y_batch.size(0)\n",
        "        correct += (predicted == y_batch).sum().item()\n",
        "\n",
        "print(f'Acurácia no teste: {100 * correct / total:.2f}%')"
      ],
      "metadata": {
        "colab": {
          "base_uri": "https://localhost:8080/"
        },
        "id": "3j2H8-pVXE9C",
        "outputId": "8be5c484-19ac-49ee-a8b6-02b86399693f"
      },
      "execution_count": null,
      "outputs": [
        {
          "output_type": "stream",
          "name": "stdout",
          "text": [
            "Acurácia no teste: 88.10%\n"
          ]
        }
      ]
    },
    {
      "cell_type": "code",
      "source": [
        "# Nova amostra (linha de teste)\n",
        "nova_amostra = [[15.26, 14.84, 871.000, 5.763, 3.312, 2.221, 5.220]]\n",
        "\n",
        "# Aplicar o mesmo scaler usado no treinamento\n",
        "nova_amostra_normalizada = torch.tensor(scaler.transform(nova_amostra), dtype=torch.float32).to(device)\n"
      ],
      "metadata": {
        "id": "ZLS69n8aX8LV"
      },
      "execution_count": null,
      "outputs": []
    },
    {
      "cell_type": "code",
      "source": [
        "model.eval()  # Garante que o modelo está em modo de avaliação\n",
        "with torch.no_grad():  # Desabilita o cálculo de gradientes\n",
        "    output = model(nova_amostra_normalizada)  # Forward pass\n",
        "    _, predicted_class = torch.max(output, 1)  # Obtém a classe prevista\n"
      ],
      "metadata": {
        "id": "keoEu_UpX_vg"
      },
      "execution_count": null,
      "outputs": []
    },
    {
      "cell_type": "code",
      "source": [
        "rotulo_verdadeiro = 0  # O rótulo verdadeiro fornecido\n",
        "print(f'Rótulo verdadeiro: {rotulo_verdadeiro}, Classe prevista: {predicted_class.item()}')\n"
      ],
      "metadata": {
        "colab": {
          "base_uri": "https://localhost:8080/"
        },
        "id": "xAp6a0QnYEgc",
        "outputId": "7bee4c30-589a-491e-8b28-d38832d41a50"
      },
      "execution_count": null,
      "outputs": [
        {
          "output_type": "stream",
          "name": "stdout",
          "text": [
            "Rótulo verdadeiro: 0, Classe prevista: 0\n"
          ]
        }
      ]
    },
    {
      "cell_type": "code",
      "source": [],
      "metadata": {
        "id": "KOB8_ZwKjw1W"
      },
      "execution_count": null,
      "outputs": []
    },
    {
      "cell_type": "code",
      "source": [],
      "metadata": {
        "id": "K9cvBoOCkUCW"
      },
      "execution_count": null,
      "outputs": []
    },
    {
      "cell_type": "code",
      "source": [],
      "metadata": {
        "id": "DOuV1VMakhb5"
      },
      "execution_count": null,
      "outputs": []
    },
    {
      "cell_type": "markdown",
      "source": [
        "# GANs"
      ],
      "metadata": {
        "id": "EjP5Maqok52i"
      }
    },
    {
      "cell_type": "markdown",
      "source": [
        "Sim, ainda vale a pena aprender sobre **GANs (Generative Adversarial Networks)**, mas o espaço que elas dominavam foi reduzido com a ascensão dos **modelos de difusão**. Vamos comparar os dois e entender quando GANs ainda são úteis.  \n",
        "\n",
        "---\n",
        "\n",
        "## **📉 Por que os modelos de difusão superaram as GANs em muitas áreas?**\n",
        "1. **Qualidade e diversidade** 🎨  \n",
        "   - GANs geram imagens realistas, mas tendem a sofrer com **mode collapse** (onde produzem poucas variações de amostras).  \n",
        "   - Modelos de difusão, como **Stable Diffusion** e **DALL·E 2**, produzem imagens mais diversas e com maior qualidade.  \n",
        "\n",
        "2. **Treinamento estável** ⚖️  \n",
        "   - GANs usam um processo adversarial (gerador vs. discriminador), que pode ser **difícil de treinar** e exige muito ajuste.  \n",
        "   - Modelos de difusão têm um treinamento mais **estável** e geralmente convergem melhor.  \n",
        "\n",
        "3. **Resolução e controle** 🔍  \n",
        "   - Modelos de difusão conseguem gerar imagens **de altíssima resolução** com mais detalhes.  \n",
        "   - GANs, especialmente as mais antigas, têm dificuldades para manter detalhes em imagens grandes.  \n",
        "\n",
        "---\n",
        "\n",
        "## **📌 Ainda vale a pena aprender GANs?**\n",
        "**Sim!** Elas ainda são úteis em alguns cenários:  \n",
        "\n",
        "1. **Geração em tempo real** 🎮  \n",
        "   - GANs são muito **mais rápidas** na inferência do que modelos de difusão. Por isso, ainda são usadas em **games**, **realidade aumentada** e **super-resolução de vídeo**.  \n",
        "\n",
        "2. **Aprendizado não supervisionado** 🔍  \n",
        "   - GANs podem ser úteis para **aprendizado sem rótulos** e **data augmentation** em áreas como detecção de anomalias.  \n",
        "\n",
        "3. **Aplicações específicas** 🏭  \n",
        "   - **StyleGAN** ainda é um dos melhores modelos para gerar rostos realistas.  \n",
        "   - **CycleGAN** é muito usado para tarefas como transformação de imagens (ex.: transformar uma foto de dia para noite).  \n",
        "\n",
        "---\n",
        "\n",
        "## **🧠 Então, o que estudar primeiro?**\n",
        "- Se seu foco for **arte generativa, IA generativa moderna e PLN**, priorize **modelos de difusão**.  \n",
        "- Se precisar de **geração rápida de imagens ou vídeo** ou quer entender melhor **adversarial training**, GANs ainda são um tópico relevante.  \n",
        "\n",
        "Se puder, aprenda **os dois**! Eles representam diferentes abordagens para **modelos generativos**, e entender ambos te dá mais flexibilidade para escolher a melhor solução. 🚀"
      ],
      "metadata": {
        "id": "KoD6yDx0k9E1"
      }
    },
    {
      "cell_type": "code",
      "source": [],
      "metadata": {
        "id": "rLJhjlLvk8U-"
      },
      "execution_count": null,
      "outputs": []
    },
    {
      "cell_type": "markdown",
      "source": [
        "# Difusão"
      ],
      "metadata": {
        "id": "80fO0H1ckigQ"
      }
    },
    {
      "cell_type": "code",
      "source": [],
      "metadata": {
        "id": "DliujAW2kjgl"
      },
      "execution_count": null,
      "outputs": []
    }
  ]
}