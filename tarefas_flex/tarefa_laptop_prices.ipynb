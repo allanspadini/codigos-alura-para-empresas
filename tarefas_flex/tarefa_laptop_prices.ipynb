{
  "nbformat": 4,
  "nbformat_minor": 0,
  "metadata": {
    "colab": {
      "provenance": []
    },
    "kernelspec": {
      "name": "python3",
      "display_name": "Python 3"
    },
    "language_info": {
      "name": "python"
    }
  },
  "cells": [
    {
      "cell_type": "markdown",
      "source": [
        "# Problema:"
      ],
      "metadata": {
        "id": "SfuVewe6dTXE"
      }
    },
    {
      "cell_type": "markdown",
      "source": [
        "Imagine que você é um engenheiro de simulação na FlexSim e precisa escolher um novo laptop para rodar modelos 3D complexos. Ao criar simulações detalhadas de fábricas, aeroportos ou hospitais, seu computador precisa processar grandes quantidades de objetos 3D simultaneamente, tornando a escolha do equipamento crucial.\n",
        "\n",
        "Uma das primeiras características que provavelmente chamará sua atenção é o tamanho da tela, já que visualizar modelos 3D detalhados exige uma boa área de trabalho visual. Mas será que laptops com telas maiores são necessariamente mais caros? E mais importante: será que um laptop com tela maior garantirá o melhor desempenho para suas simulações?\n",
        "\n",
        "Hoje, vamos usar técnicas de análise de dados - as mesmas que utilizamos para otimizar processos em nossos modelos de simulação - para descobrir as relações entre as características dos laptops e seus preços. Isso nos ajudará a tomar uma decisão mais informada e baseada em dados, assim como fazemos ao apresentar resultados de simulações aos clientes."
      ],
      "metadata": {
        "id": "fskUsvwMdZoV"
      }
    },
    {
      "cell_type": "markdown",
      "source": [
        "## Passo 1: Importar as bibliotecas necessárias\n",
        "Primeiro, precisamos importar as bibliotecas que vamos utilizar."
      ],
      "metadata": {
        "id": "8wEzrOr8aRvG"
      }
    },
    {
      "cell_type": "code",
      "execution_count": null,
      "metadata": {
        "id": "w3xf3rlHaFj-"
      },
      "outputs": [],
      "source": [
        "import pandas as pd\n",
        "import numpy as np\n",
        "import matplotlib.pyplot as plt\n",
        "import seaborn as sns"
      ]
    },
    {
      "cell_type": "markdown",
      "source": [
        "## Passo 2: Carregar e preparar os dados\n",
        "Vamos carregar o arquivo CSV e verificar as primeiras linhas."
      ],
      "metadata": {
        "id": "q7TQ6iWWad5x"
      }
    },
    {
      "cell_type": "code",
      "source": [
        "url = 'https://github.com/allanspadini/codigos-alura-para-empresas/raw/refs/heads/main/laptop_prices.csv'"
      ],
      "metadata": {
        "id": "DDL6NrF1aebb"
      },
      "execution_count": null,
      "outputs": []
    },
    {
      "cell_type": "code",
      "source": [
        "# Carregar os dados\n",
        "df = pd.read_csv(url)"
      ],
      "metadata": {
        "id": "iTYFBFprapWm"
      },
      "execution_count": null,
      "outputs": []
    },
    {
      "cell_type": "code",
      "source": [
        "df.head()"
      ],
      "metadata": {
        "id": "i-SO9N9Rb7Bk"
      },
      "execution_count": null,
      "outputs": []
    },
    {
      "cell_type": "code",
      "source": [
        "# Verificar a quantidade de valores nulos por coluna\n",
        "print(df.isnull().sum())\n",
        "\n",
        "# Verificar se há qualquer valor nulo no dataset\n",
        "print(df.isnull().values.any())\n"
      ],
      "metadata": {
        "id": "1liC145otl25"
      },
      "execution_count": null,
      "outputs": []
    },
    {
      "cell_type": "markdown",
      "source": [
        "## Passo 3: Identificar e escrever o nome das colunas numéricas e categóricas em duas listas diferentes"
      ],
      "metadata": {
        "id": "cVzseYn5mEkY"
      }
    },
    {
      "cell_type": "code",
      "source": [],
      "metadata": {
        "id": "AGcJVO5Zbqrz"
      },
      "execution_count": null,
      "outputs": []
    },
    {
      "cell_type": "code",
      "source": [],
      "metadata": {
        "id": "vBWpH4ZifR1H"
      },
      "execution_count": null,
      "outputs": []
    },
    {
      "cell_type": "markdown",
      "source": [
        "## Passo 4: Aplicar Label Encoding para \"Operating System\""
      ],
      "metadata": {
        "id": "qbblaF3EpDkX"
      }
    },
    {
      "cell_type": "code",
      "source": [],
      "metadata": {
        "id": "7jxnzOM1fuZl"
      },
      "execution_count": null,
      "outputs": []
    },
    {
      "cell_type": "code",
      "source": [],
      "metadata": {
        "id": "-7rbByyaptxC"
      },
      "execution_count": null,
      "outputs": []
    },
    {
      "cell_type": "markdown",
      "source": [
        "# Passo 5: Aplicar One-Hot Encoding para variáveis categóricas restantes"
      ],
      "metadata": {
        "id": "K0H9us-4q0EZ"
      }
    },
    {
      "cell_type": "code",
      "source": [],
      "metadata": {
        "id": "7-LWfl4Squ8m"
      },
      "execution_count": null,
      "outputs": []
    },
    {
      "cell_type": "markdown",
      "source": [
        "# Resultados até agora"
      ],
      "metadata": {
        "id": "cCkNsAqTr8TG"
      }
    },
    {
      "cell_type": "code",
      "source": [],
      "metadata": {
        "id": "RO3OmBElrwLj"
      },
      "execution_count": null,
      "outputs": []
    },
    {
      "cell_type": "markdown",
      "source": [
        "# Passo 6: Construir matriz de correlação das variáveis numéricas"
      ],
      "metadata": {
        "id": "xFhxeJnCrlhI"
      }
    },
    {
      "cell_type": "code",
      "source": [],
      "metadata": {
        "id": "J4sgY4L1rBSh"
      },
      "execution_count": null,
      "outputs": []
    },
    {
      "cell_type": "markdown",
      "source": [
        "# Passo 7: Dividir em X e y."
      ],
      "metadata": {
        "id": "5eY_dTrYtTRc"
      }
    },
    {
      "cell_type": "code",
      "source": [],
      "metadata": {
        "id": "RuAX1QaUsu9E"
      },
      "execution_count": null,
      "outputs": []
    },
    {
      "cell_type": "code",
      "source": [],
      "metadata": {
        "id": "crUmPWKytz9T"
      },
      "execution_count": null,
      "outputs": []
    },
    {
      "cell_type": "code",
      "source": [],
      "metadata": {
        "id": "xLOl9DQpt7QM"
      },
      "execution_count": null,
      "outputs": []
    },
    {
      "cell_type": "markdown",
      "source": [
        "# Passo 8: Dividir os dados em treino e teste"
      ],
      "metadata": {
        "id": "H99Mi1p8vBB3"
      }
    },
    {
      "cell_type": "code",
      "source": [],
      "metadata": {
        "id": "gWy0Sw_bwNzQ"
      },
      "execution_count": null,
      "outputs": []
    },
    {
      "cell_type": "code",
      "source": [],
      "metadata": {
        "id": "u15QxMY7t9gP"
      },
      "execution_count": null,
      "outputs": []
    },
    {
      "cell_type": "markdown",
      "source": [
        "# Passo 9: Padronizar os dados"
      ],
      "metadata": {
        "id": "bUlKFyZox4Gg"
      }
    },
    {
      "cell_type": "code",
      "source": [],
      "metadata": {
        "id": "ljexGtkIyd--"
      },
      "execution_count": null,
      "outputs": []
    },
    {
      "cell_type": "code",
      "source": [],
      "metadata": {
        "id": "OlTO6mIkx2Sq"
      },
      "execution_count": null,
      "outputs": []
    },
    {
      "cell_type": "markdown",
      "source": [
        "# Passo 10: Fazer a regressão linear"
      ],
      "metadata": {
        "id": "UaV4RixEzClQ"
      }
    },
    {
      "cell_type": "code",
      "source": [],
      "metadata": {
        "id": "QBL-9mdhybLT"
      },
      "execution_count": null,
      "outputs": []
    },
    {
      "cell_type": "code",
      "source": [],
      "metadata": {
        "id": "EnYoGHFxz0Jy"
      },
      "execution_count": null,
      "outputs": []
    },
    {
      "cell_type": "markdown",
      "source": [
        "# Passo 11: Validar os resultados"
      ],
      "metadata": {
        "id": "Gy4cCDK-z5bU"
      }
    },
    {
      "cell_type": "code",
      "source": [],
      "metadata": {
        "id": "5gVMLN_51GWB"
      },
      "execution_count": null,
      "outputs": []
    },
    {
      "cell_type": "code",
      "source": [],
      "metadata": {
        "id": "HCEwqQbKz23a"
      },
      "execution_count": null,
      "outputs": []
    },
    {
      "cell_type": "markdown",
      "source": [
        "# Árvores de regressão"
      ],
      "metadata": {
        "id": "HxzdkZ5y12-A"
      }
    },
    {
      "cell_type": "code",
      "source": [],
      "metadata": {
        "id": "G-J6efGl1EKo"
      },
      "execution_count": null,
      "outputs": []
    },
    {
      "cell_type": "code",
      "source": [],
      "metadata": {
        "id": "3ODqKZw718k3"
      },
      "execution_count": null,
      "outputs": []
    },
    {
      "cell_type": "code",
      "source": [],
      "metadata": {
        "id": "tQsB8qNz1-Kr"
      },
      "execution_count": null,
      "outputs": []
    },
    {
      "cell_type": "markdown",
      "source": [
        "# Ajustando hiperparâmetros"
      ],
      "metadata": {
        "id": "9vb-J69m2Iws"
      }
    },
    {
      "cell_type": "code",
      "source": [],
      "metadata": {
        "id": "5wNJF9pG2AF6"
      },
      "execution_count": null,
      "outputs": []
    },
    {
      "cell_type": "code",
      "source": [],
      "metadata": {
        "id": "-7_IpGq72Lf3"
      },
      "execution_count": null,
      "outputs": []
    },
    {
      "cell_type": "code",
      "source": [],
      "metadata": {
        "id": "YSf5YuQo23Vd"
      },
      "execution_count": null,
      "outputs": []
    }
  ]
}