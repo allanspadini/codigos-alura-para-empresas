{
  "nbformat": 4,
  "nbformat_minor": 0,
  "metadata": {
    "colab": {
      "provenance": []
    },
    "kernelspec": {
      "name": "python3",
      "display_name": "Python 3"
    },
    "language_info": {
      "name": "python"
    }
  },
  "cells": [
    {
      "cell_type": "markdown",
      "source": [
        "https://huggingface.co/docs/transformers/main/en/model_doc/audio-spectrogram-transformer#transformers.ASTForAudioClassification.forward.example"
      ],
      "metadata": {
        "id": "y5vBtKuVa-d9"
      }
    },
    {
      "cell_type": "code",
      "source": [
        "from transformers import AutoProcessor, AutoModelForAudioClassification, AutoFeatureExtractor, ASTForAudioClassification\n",
        "import torch\n",
        "import librosa"
      ],
      "metadata": {
        "id": "AZkSUEUqdQUK"
      },
      "execution_count": null,
      "outputs": []
    },
    {
      "cell_type": "markdown",
      "source": [
        "## Tarefa 1: Carregar o modelo e o feature extractor"
      ],
      "metadata": {
        "id": "Q6R5kdAucArB"
      }
    },
    {
      "cell_type": "markdown",
      "source": [
        "Fazer uma classificação de áudio usando a hugging face transformers"
      ],
      "metadata": {
        "id": "mA81V8cmgPrT"
      }
    },
    {
      "cell_type": "code",
      "source": [],
      "metadata": {
        "id": "RBMTg2dJbwLh"
      },
      "execution_count": null,
      "outputs": []
    },
    {
      "cell_type": "markdown",
      "source": [
        "## Tarefa 2: Carregar o arquivo de áudio usando a biblioteca librosa"
      ],
      "metadata": {
        "id": "NW5jQ555cJ6J"
      }
    },
    {
      "cell_type": "code",
      "source": [],
      "metadata": {
        "id": "l-B0SuGacPCN"
      },
      "execution_count": null,
      "outputs": []
    },
    {
      "cell_type": "markdown",
      "source": [
        "# Tarefa 3: Fazer a inferência e obter a classe"
      ],
      "metadata": {
        "id": "Iwb1OKcRc4Sh"
      }
    },
    {
      "cell_type": "code",
      "source": [],
      "metadata": {
        "id": "4hNBXBN9dDcd"
      },
      "execution_count": null,
      "outputs": []
    },
    {
      "cell_type": "code",
      "source": [],
      "metadata": {
        "id": "lk2KMIRveyI_"
      },
      "execution_count": null,
      "outputs": []
    }
  ]
}