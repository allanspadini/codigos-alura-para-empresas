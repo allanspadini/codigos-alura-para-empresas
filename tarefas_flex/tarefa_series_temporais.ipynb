{
  "nbformat": 4,
  "nbformat_minor": 0,
  "metadata": {
    "colab": {
      "provenance": []
    },
    "kernelspec": {
      "name": "python3",
      "display_name": "Python 3"
    },
    "language_info": {
      "name": "python"
    }
  },
  "cells": [
    {
      "cell_type": "markdown",
      "source": [
        "#Objetivo: Prever o consumo de combustível em frota de caminhões (ex: simular rotas que minimizem gastos energéticos)"
      ],
      "metadata": {
        "id": "LCRhLXn0nyIx"
      }
    },
    {
      "cell_type": "code",
      "source": [
        "import pandas as pd"
      ],
      "metadata": {
        "id": "EEDCfTsRlbTd"
      },
      "execution_count": null,
      "outputs": []
    },
    {
      "cell_type": "markdown",
      "source": [
        "# Leitura dos dados"
      ],
      "metadata": {
        "id": "s02qMKvwlYbu"
      }
    },
    {
      "cell_type": "code",
      "execution_count": null,
      "metadata": {
        "id": "5FUBP4uLlSXu"
      },
      "outputs": [],
      "source": [
        "url = 'https://github.com/allanspadini/codigos-alura-para-empresas/raw/refs/heads/main/combustivel.csv'"
      ]
    },
    {
      "cell_type": "code",
      "source": [
        "df = pd.read_csv(url)"
      ],
      "metadata": {
        "id": "YwiMEzLPlf3Q"
      },
      "execution_count": null,
      "outputs": []
    },
    {
      "cell_type": "code",
      "source": [
        "df.head()"
      ],
      "metadata": {
        "id": "O08B4wD9lhUY"
      },
      "execution_count": null,
      "outputs": []
    },
    {
      "cell_type": "markdown",
      "source": [
        "# Etapa 1: Visualização da série temporal"
      ],
      "metadata": {
        "id": "z9j61Ijal36W"
      }
    },
    {
      "cell_type": "code",
      "source": [
        "import matplotlib.pyplot as plt\n",
        "\n",
        "# Converter a coluna 'Date' para o formato datetime\n",
        "df['Date'] = pd.to_datetime(df['Date'], format='%m/%d/%Y')\n",
        "\n",
        "# Plotar os dados da coluna 'D1' ao longo da 'Date'\n",
        "plt.figure(figsize=(12, 6))\n",
        "plt.plot(df['Date'], df['D1'], label='D1', color='blue')\n",
        "\n",
        "# Configurar o gráfico\n",
        "plt.title('Variação da Coluna D1 ao Longo do Tempo', fontsize=14)\n",
        "plt.xlabel('Data', fontsize=12)\n",
        "plt.ylabel('D1', fontsize=12)\n",
        "plt.grid(True, linestyle='--', alpha=0.6)\n",
        "plt.legend()\n",
        "plt.tight_layout()\n",
        "\n",
        "# Exibir o gráfico\n",
        "plt.show()\n"
      ],
      "metadata": {
        "id": "-xGYrv-llico"
      },
      "execution_count": null,
      "outputs": []
    },
    {
      "cell_type": "markdown",
      "source": [
        "# Etapa 2: Organizar os dados para a Prophet"
      ],
      "metadata": {
        "id": "jHSvJ0DenCOX"
      }
    },
    {
      "cell_type": "markdown",
      "source": [
        "https://facebook.github.io/prophet/docs/quick_start.html"
      ],
      "metadata": {
        "id": "rNP-e18_olsM"
      }
    },
    {
      "cell_type": "code",
      "source": [],
      "metadata": {
        "id": "GG-gOXWWmvNS"
      },
      "execution_count": null,
      "outputs": []
    },
    {
      "cell_type": "code",
      "source": [],
      "metadata": {
        "id": "vKTTLEUhnjy0"
      },
      "execution_count": null,
      "outputs": []
    },
    {
      "cell_type": "markdown",
      "source": [
        "# Etapa 3: Dividir em treino e teste (considere que queremos aprender com o passado para prever o futuro)"
      ],
      "metadata": {
        "id": "2JkhYyVypR8I"
      }
    },
    {
      "cell_type": "code",
      "source": [],
      "metadata": {
        "id": "3waL_WiPpiSJ"
      },
      "execution_count": null,
      "outputs": []
    },
    {
      "cell_type": "code",
      "source": [],
      "metadata": {
        "id": "fxdQ0KDtppeH"
      },
      "execution_count": null,
      "outputs": []
    },
    {
      "cell_type": "markdown",
      "source": [
        "# Etapa 3: Criar um modelo básico com a Prophet"
      ],
      "metadata": {
        "id": "qn2XC9hcojP_"
      }
    },
    {
      "cell_type": "code",
      "source": [],
      "metadata": {
        "id": "SBl_hJbYo1dU"
      },
      "execution_count": null,
      "outputs": []
    },
    {
      "cell_type": "code",
      "source": [],
      "metadata": {
        "id": "Hn9CDlIsnlcB"
      },
      "execution_count": null,
      "outputs": []
    },
    {
      "cell_type": "code",
      "source": [],
      "metadata": {
        "id": "p296gqsGo2VU"
      },
      "execution_count": null,
      "outputs": []
    },
    {
      "cell_type": "markdown",
      "source": [
        "# Etapa 4: Fazer previsões com a Prophet"
      ],
      "metadata": {
        "id": "ppZhudHZqWs0"
      }
    },
    {
      "cell_type": "code",
      "source": [],
      "metadata": {
        "id": "YwJrFVmGqE01"
      },
      "execution_count": null,
      "outputs": []
    },
    {
      "cell_type": "code",
      "source": [],
      "metadata": {
        "id": "7HX2ljVlqg7i"
      },
      "execution_count": null,
      "outputs": []
    },
    {
      "cell_type": "markdown",
      "source": [
        "# Etapa 5: Verificar os resultados"
      ],
      "metadata": {
        "id": "bgDas40_qpzK"
      }
    },
    {
      "cell_type": "code",
      "source": [],
      "metadata": {
        "id": "eb3QxwHdquN2"
      },
      "execution_count": null,
      "outputs": []
    },
    {
      "cell_type": "code",
      "source": [],
      "metadata": {
        "id": "Y1xsNzXcqku7"
      },
      "execution_count": null,
      "outputs": []
    },
    {
      "cell_type": "code",
      "source": [],
      "metadata": {
        "id": "EJht06W2qnMK"
      },
      "execution_count": null,
      "outputs": []
    },
    {
      "cell_type": "code",
      "source": [],
      "metadata": {
        "id": "17T39rEWrFsB"
      },
      "execution_count": null,
      "outputs": []
    },
    {
      "cell_type": "code",
      "source": [],
      "metadata": {
        "id": "AcVzyyGfq3NB"
      },
      "execution_count": null,
      "outputs": []
    },
    {
      "cell_type": "code",
      "source": [],
      "metadata": {
        "id": "OX8aGodjq6uG"
      },
      "execution_count": null,
      "outputs": []
    }
  ]
}