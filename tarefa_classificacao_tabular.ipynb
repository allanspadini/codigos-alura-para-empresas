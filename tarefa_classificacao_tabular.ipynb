{
  "nbformat": 4,
  "nbformat_minor": 0,
  "metadata": {
    "colab": {
      "provenance": []
    },
    "kernelspec": {
      "name": "python3",
      "display_name": "Python 3"
    },
    "language_info": {
      "name": "python"
    }
  },
  "cells": [
    {
      "cell_type": "markdown",
      "source": [
        "# Classificação tabular"
      ],
      "metadata": {
        "id": "3osSJsagjpfD"
      }
    },
    {
      "cell_type": "markdown",
      "source": [
        "### 🌾 **Classificação de Sementes de Trigo - Explicação Inicial**  \n",
        "\n",
        "Este conjunto de dados contém **medidas físicas de sementes de trigo** e tem como objetivo a **classificação da espécie** com base nessas características. Cada linha representa uma semente e inclui as seguintes informações:  \n",
        "\n",
        "🔹 **Características das sementes:**  \n",
        "- **Área**: Tamanho da superfície da semente.  \n",
        "- **Perímetro**: Medida do contorno da semente.  \n",
        "- **Compacidade**: Grau de proximidade entre as partes da semente.  \n",
        "- **Comprimento**: Tamanho longitudinal da semente.  \n",
        "- **Largura**: Largura máxima da semente.  \n",
        "- **Assimetria**: Diferença na forma da semente em relação a um eixo.  \n",
        "- **Comprimento do sulco**: Medida do sulco central da semente.  \n",
        "\n",
        "🔹 **Classe de saída:**  \n",
        "- **Espécie**: Representa o tipo de semente de trigo (0, 1 ou 2), indicando a qual variedade ela pertence.  \n",
        "\n",
        "O objetivo do problema é utilizar essas medidas para treinar um modelo de **classificação supervisionada**, permitindo identificar corretamente a espécie de uma nova semente com base nas suas características. 🚀🌾"
      ],
      "metadata": {
        "id": "0iU3CCGZQT_B"
      }
    },
    {
      "cell_type": "code",
      "source": [
        "import pandas as pd"
      ],
      "metadata": {
        "id": "_lMWVaKAhwHq"
      },
      "execution_count": null,
      "outputs": []
    },
    {
      "cell_type": "code",
      "execution_count": null,
      "metadata": {
        "id": "gnTt1B4Ehhaf"
      },
      "outputs": [],
      "source": [
        "dados = pd.read_csv('https://raw.githubusercontent.com/alura-cursos/Primeiros_passos_pytorch/main/sementes.csv')\n",
        "dados.head()"
      ]
    },
    {
      "cell_type": "code",
      "source": [
        "dados['Espécie'].unique()"
      ],
      "metadata": {
        "id": "sDxDIuVWBTOU"
      },
      "execution_count": null,
      "outputs": []
    },
    {
      "cell_type": "code",
      "source": [
        "X = dados.drop(['Espécie'],axis=1).values\n",
        "y = dados['Espécie'].values"
      ],
      "metadata": {
        "id": "VIy8Gdo3hzpz"
      },
      "execution_count": null,
      "outputs": []
    },
    {
      "cell_type": "code",
      "source": [
        "from sklearn.model_selection import train_test_split\n",
        "X_treino,X_teste,y_treino,y_teste = train_test_split(X,y,test_size=0.2,stratify=y,random_state=42)"
      ],
      "metadata": {
        "id": "7X6HhR1GA-3X"
      },
      "execution_count": null,
      "outputs": []
    },
    {
      "cell_type": "code",
      "source": [
        "import torch\n",
        "import torch.nn as nn\n",
        "import torch.optim as optim\n",
        "from torch.utils.data import DataLoader, TensorDataset\n",
        "\n",
        "from sklearn.preprocessing import StandardScaler"
      ],
      "metadata": {
        "id": "OMQ0UTMyCZsM"
      },
      "execution_count": null,
      "outputs": []
    },
    {
      "cell_type": "markdown",
      "source": [
        "## Normalização dos dados"
      ],
      "metadata": {
        "id": "35GJKyDzCbPd"
      }
    },
    {
      "cell_type": "markdown",
      "source": [
        "https://pytorch.org/docs/stable/tensors.html"
      ],
      "metadata": {
        "id": "YZy7iOJoEYZ7"
      }
    },
    {
      "cell_type": "markdown",
      "source": [
        "https://scikit-learn.org/stable/modules/generated/sklearn.preprocessing.StandardScaler.html"
      ],
      "metadata": {
        "id": "cOA7mR_0D56y"
      }
    },
    {
      "cell_type": "code",
      "source": [],
      "metadata": {
        "id": "TrAKvJ0uC5M_"
      },
      "execution_count": null,
      "outputs": []
    },
    {
      "cell_type": "code",
      "source": [],
      "metadata": {
        "id": "IEStyhbXEm_4"
      },
      "execution_count": null,
      "outputs": []
    },
    {
      "cell_type": "markdown",
      "source": [
        "## Criando DataLoaders"
      ],
      "metadata": {
        "id": "VDPRyvlpHb_2"
      }
    },
    {
      "cell_type": "code",
      "source": [],
      "metadata": {
        "id": "U6_IY2jgHgBh"
      },
      "execution_count": null,
      "outputs": []
    },
    {
      "cell_type": "markdown",
      "source": [
        "## Definição da Rede Neural"
      ],
      "metadata": {
        "id": "ZkQpQNd9H6iB"
      }
    },
    {
      "cell_type": "markdown",
      "source": [
        "https://pytorch.org/docs/stable/generated/torch.nn.Module.html"
      ],
      "metadata": {
        "id": "ZBNrfFDoIcuW"
      }
    },
    {
      "cell_type": "code",
      "source": [],
      "metadata": {
        "id": "hgKNIXQSHuQi"
      },
      "execution_count": null,
      "outputs": []
    },
    {
      "cell_type": "markdown",
      "source": [
        "### 📌 **O que é `nn.Linear`?**\n",
        "`nn.Linear(in_features, out_features)` é uma camada totalmente conectada (ou densa), que realiza uma transformação linear dos dados de entrada:\n",
        "\n",
        "\n",
        "$$ Y = XW^T + b $$\n",
        "\n",
        "\n",
        "onde:\n",
        "- \\( X \\) é o tensor de entrada\n",
        "- \\( W \\) são os pesos da camada\n",
        "- \\( b \\) é o bias (termo de deslocamento)\n",
        "- \\( Y \\) é a saída transformada\n",
        "\n",
        "Essa camada aprende \\( W \\) e \\( b \\) durante o treinamento para mapear a entrada na saída desejada.\n",
        "\n",
        "---\n",
        "\n",
        "### 🔹 **Explicação da Arquitetura**\n",
        "1. **Camada oculta (`self.fc1`)**  \n",
        "   ```python\n",
        "   self.fc1 = nn.Linear(input_size, hidden_size)\n",
        "   ```\n",
        "   - Converte a entrada (`input_size`) para um espaço de representação de dimensão `hidden_size`.\n",
        "   - Aprenderá pesos $ W_1 $ e bias $ b_1$ para essa transformação.\n",
        "\n",
        "2. **Ativação ReLU (`self.relu`)**  \n",
        "   ```python\n",
        "   self.relu = nn.ReLU()\n",
        "   ```\n",
        "   - Aplica a função de ativação ReLU:\n",
        "     \n",
        "     $$ f(x) = \\max(0, x) $$\n",
        "     \n",
        "   - Introduz não-linearidade, permitindo que a rede aprenda padrões mais complexos.\n",
        "\n",
        "3. **Camada de saída (`self.fc2`)**  \n",
        "   ```python\n",
        "   self.fc2 = nn.Linear(hidden_size, output_size)\n",
        "   ```\n",
        "   - Transforma a saída da camada oculta (`hidden_size`) no número final de classes (`output_size`).\n",
        "   - A saída ainda não está normalizada (logits), então usamos `CrossEntropyLoss` para lidar com isso.\n",
        "\n",
        "---\n",
        "\n",
        "### 🔥 **Fluxo de Dados (`forward`)**\n",
        "```python\n",
        "def forward(self, x):\n",
        "    x = self.fc1(x)   # Transformação linear\n",
        "    x = self.relu(x)  # Ativação ReLU\n",
        "    x = self.fc2(x)   # Segunda transformação linear\n",
        "    return x          # Saída (logits)\n",
        "```\n",
        "- A entrada passa pela primeira camada densa (`fc1`).\n",
        "- Depois, aplicamos a ativação `ReLU`, introduzindo não-linearidade.\n",
        "- Finalmente, a saída passa pela camada `fc2`, que gera 3 valores (um para cada classe).\n",
        "\n",
        "💡 **Observação:**  \n",
        "A saída do modelo são **logits** (valores não normalizados). Para obter probabilidades, aplicaríamos `nn.Softmax(dim=1)`, mas `CrossEntropyLoss` já faz isso internamente.\n",
        "\n",
        "---\n",
        "\n",
        "### 🚀 **Resumo**\n",
        "- `nn.Linear` realiza transformações lineares de entrada para saída.\n",
        "- `ReLU` adiciona não-linearidade para melhorar a capacidade de aprendizado.\n",
        "- O modelo é uma rede neural simples com **uma camada oculta** e **três neurônios de saída** (um para cada classe)."
      ],
      "metadata": {
        "id": "raGDLTOlKGSa"
      }
    },
    {
      "cell_type": "markdown",
      "source": [
        "## Definição de hiperparâmetros"
      ],
      "metadata": {
        "id": "NqLTJf1kOxVX"
      }
    },
    {
      "cell_type": "code",
      "source": [],
      "metadata": {
        "id": "zMwHasAcMREP"
      },
      "execution_count": null,
      "outputs": []
    },
    {
      "cell_type": "markdown",
      "source": [
        "### 📌 **Regras práticas para definir o número de neurônios na camada oculta**\n",
        "Como o número de features de entrada é **7**, podemos usar algumas heurísticas comuns:\n",
        "\n",
        "1️⃣ **Regra da média geométrica:**  \n",
        "$$ \\text{neurônios na camada oculta} = \\sqrt{\\text{neurônios de entrada} \\times \\text{neurônios de saída}}\n",
        "$$\n",
        "Aplicando ao nosso caso:\n",
        "$$\n",
        "h = \\sqrt{7 \\times 3} = \\sqrt{21} \\approx 4 \\text{ ou } 5\n",
        "$$\n",
        "\n",
        "2️⃣ **Regra do dobro do número de entradas:**  \n",
        "$$\n",
        "h = 2 \\times \\text{número de features} = 2 \\times 7 = 14\n",
        "$$\n",
        "Se o problema for complexo, pode ser útil começar com mais neurônios.\n",
        "\n",
        "3️⃣ **Regra do \"funil\" (entre entrada e saída):**  \n",
        "- A camada oculta geralmente tem um número intermediário de neurônios entre a entrada e a saída.\n",
        "- Um valor comum seria algo entre $  (7+3)/2 = 5;  2 \\times 7 = 14  $.\n",
        "\n",
        "---\n",
        "\n",
        "### 🚀 **Escolha prática**\n",
        "Se for um problema simples, **5 a 10 neurônios** na camada oculta pode ser um bom começo.  \n",
        "Se for um problema mais complexo, com padrões difíceis de aprender, **10 a 14 neurônios** pode ser melhor.  \n",
        "\n",
        "#### **Aplicando no código:**\n",
        "```python\n",
        "hidden_size = 5  # Ou 7, 10, 14, dependendo dos testes\n",
        "model = Classifier(input_size=7, hidden_size=hidden_size, output_size=3)\n",
        "```\n",
        "\n",
        "---\n",
        "\n",
        "### 🔥 **Melhor estratégia: Experimentação!**\n",
        "O melhor número de neurônios depende da complexidade do problema e dos dados. O ideal é testar diferentes configurações e observar a **performance no conjunto de validação**, usando técnicas como **cross-validation** ou **grid search**."
      ],
      "metadata": {
        "id": "9IVlghkVNumq"
      }
    },
    {
      "cell_type": "markdown",
      "source": [
        "## Inicialização do modelo"
      ],
      "metadata": {
        "id": "S95hqik_O7lY"
      }
    },
    {
      "cell_type": "code",
      "source": [],
      "metadata": {
        "id": "_PPeyN5tTb_f"
      },
      "execution_count": null,
      "outputs": []
    },
    {
      "cell_type": "markdown",
      "source": [
        "## Treinamento do modelo"
      ],
      "metadata": {
        "id": "f8uiQqFEVbM2"
      }
    },
    {
      "cell_type": "code",
      "source": [],
      "metadata": {
        "id": "mWg6bNVOVfRL"
      },
      "execution_count": null,
      "outputs": []
    },
    {
      "cell_type": "markdown",
      "source": [
        "### **1. Estrutura do loop de treinamento**\n",
        "O treinamento do modelo é dividido em **épocas** (`epochs`) e **lotes (batches)**. Cada época representa uma iteração completa sobre o conjunto de dados de treinamento, enquanto o processamento em lotes divide o conjunto de dados em partes menores para melhorar a eficiência computacional e permitir o uso de gradientes estocásticos.\n",
        "\n",
        "---\n",
        "\n",
        "### **2. Passo a passo do código**\n",
        "\n",
        "#### **(a) Loop de épocas**\n",
        "```python\n",
        "for epoch in range(epochs):\n",
        "```\n",
        "- Este loop externo controla o número total de épocas de treinamento. Cada época representa uma passagem completa pelo conjunto de dados de treinamento.\n",
        "- `epochs` é o número total de vezes que o modelo verá o conjunto de dados.\n",
        "\n",
        "#### **(b) Modo de treinamento**\n",
        "```python\n",
        "model.train()\n",
        "```\n",
        "- Coloca o modelo no **modo de treinamento**. Isso é importante porque algumas camadas (como `Dropout` ou `BatchNorm`) se comportam de forma diferente durante o treinamento e a inferência.\n",
        "- No modo de treinamento, essas camadas ajustam seus parâmetros ou aplicam regularização.\n",
        "\n",
        "#### **(c) Inicialização do total da perda**\n",
        "```python\n",
        "total_loss = 0\n",
        "```\n",
        "- Aqui, é inicializada uma variável para acumular a perda total ao longo de todos os lotes da época. Isso será usado para calcular a perda média no final da época.\n",
        "\n",
        "---\n",
        "\n",
        "### **3. Loop de lotes (batches)**\n",
        "```python\n",
        "for X_batch, y_batch in train_loader:\n",
        "```\n",
        "- Este loop interno itera sobre os dados de treinamento divididos em lotes (batches), que são fornecidos pelo `DataLoader` (`train_loader`).\n",
        "- Cada `X_batch` contém um subconjunto dos dados de entrada, e `y_batch` contém os rótulos correspondentes.\n",
        "\n",
        "#### **(a) Envio dos dados para o dispositivo**\n",
        "```python\n",
        "X_batch, y_batch = X_batch.to(device), y_batch.to(device)\n",
        "```\n",
        "- Move os dados de entrada (`X_batch`) e os rótulos (`y_batch`) para o dispositivo de computação configurado (CPU ou GPU). Isso é necessário para garantir que os dados e o modelo estejam no mesmo dispositivo durante o treinamento.\n",
        "\n",
        "#### **(b) Zerar os gradientes acumulados**\n",
        "```python\n",
        "optimizer.zero_grad()\n",
        "```\n",
        "- Zera os gradientes acumulados nos parâmetros do modelo. No PyTorch, os gradientes são acumulados por padrão, então é necessário limpá-los antes de calcular os novos gradientes para o lote atual.\n",
        "\n",
        "#### **(c) Forward pass**\n",
        "```python\n",
        "outputs = model(X_batch)\n",
        "```\n",
        "- Passa os dados de entrada (`X_batch`) pelo modelo, gerando as saídas (`outputs`), que geralmente são os logits (valores antes da aplicação de softmax).\n",
        "\n",
        "#### **(d) Cálculo da perda**\n",
        "```python\n",
        "loss = criterion(outputs, y_batch)\n",
        "```\n",
        "- Calcula a perda entre as saídas previstas pelo modelo (`outputs`) e os rótulos verdadeiros (`y_batch`) usando a função de perda definida (`criterion`, que neste caso é `CrossEntropyLoss`).\n",
        "\n",
        "#### **(e) Backward pass**\n",
        "```python\n",
        "loss.backward()\n",
        "```\n",
        "- Calcula os gradientes da perda em relação aos pesos do modelo usando o algoritmo de backpropagation. Esses gradientes são armazenados nos parâmetros do modelo (acessíveis via `model.parameters()`).\n",
        "\n",
        "#### **(f) Atualização dos pesos**\n",
        "```python\n",
        "optimizer.step()\n",
        "```\n",
        "- Atualiza os pesos do modelo usando os gradientes calculados no passo anterior. O otimizador (`optimizer`, que neste caso é `Adam`) aplica a regra de atualização apropriada com base nos gradientes e na taxa de aprendizado (`learning_rate`).\n",
        "\n",
        "#### **(g) Acumulação da perda**\n",
        "```python\n",
        "total_loss += loss.item()\n",
        "```\n",
        "- Adiciona a perda do lote atual (`loss.item()`) ao total acumulado da época (`total_loss`). O método `.item()` é usado para obter o valor escalar da perda como um número Python.\n",
        "\n",
        "---\n",
        "\n",
        "### **4. Exibição da perda média por época**\n",
        "```python\n",
        "print(f'Epoch {epoch+1}/{epochs}, Loss: {total_loss/len(train_loader):.4f}')\n",
        "```\n",
        "- Após o término de todos os lotes em uma época, calcula-se a perda média dividindo o total acumulado (`total_loss`) pelo número de lotes (`len(train_loader)`).\n",
        "- Exibe a perda média para a época atual no formato especificado.\n",
        "\n",
        "---\n",
        "\n",
        "### **Resumo do Processo**\n",
        "1. **Forward pass**: Os dados de entrada são passados pelo modelo para gerar previsões.\n",
        "2. **Cálculo da perda**: A diferença entre as previsões e os rótulos verdadeiros é avaliada usando a função de perda.\n",
        "3. **Backward pass**: Os gradientes da perda em relação aos pesos do modelo são calculados.\n",
        "4. **Atualização dos pesos**: Os pesos do modelo são atualizados pelo otimizador com base nos gradientes.\n",
        "5. **Monitoramento**: A perda média por época é calculada e exibida para acompanhar o progresso do treinamento.\n",
        "\n",
        "---\n",
        "\n",
        "### **Importância do Loop de Treinamento**\n",
        "O loop de treinamento é o coração do aprendizado em redes neurais. Ele ajusta os pesos do modelo para minimizar a função de perda e, consequentemente, melhorar o desempenho do modelo no conjunto de dados de treinamento. O objetivo final é que o modelo generalize bem para novos dados (conjunto de teste ou validação)."
      ],
      "metadata": {
        "id": "KtEZtZd1WVxD"
      }
    },
    {
      "cell_type": "markdown",
      "source": [
        "## Avaliação no conjunto de teste"
      ],
      "metadata": {
        "id": "PvweFyrjXB1K"
      }
    },
    {
      "cell_type": "code",
      "source": [],
      "metadata": {
        "id": "3j2H8-pVXE9C"
      },
      "execution_count": null,
      "outputs": []
    },
    {
      "cell_type": "code",
      "source": [],
      "metadata": {
        "id": "ZLS69n8aX8LV"
      },
      "execution_count": null,
      "outputs": []
    },
    {
      "cell_type": "code",
      "source": [],
      "metadata": {
        "id": "keoEu_UpX_vg"
      },
      "execution_count": null,
      "outputs": []
    },
    {
      "cell_type": "code",
      "source": [],
      "metadata": {
        "id": "xAp6a0QnYEgc"
      },
      "execution_count": null,
      "outputs": []
    },
    {
      "cell_type": "code",
      "source": [],
      "metadata": {
        "id": "KOB8_ZwKjw1W"
      },
      "execution_count": null,
      "outputs": []
    },
    {
      "cell_type": "code",
      "source": [],
      "metadata": {
        "id": "K9cvBoOCkUCW"
      },
      "execution_count": null,
      "outputs": []
    },
    {
      "cell_type": "code",
      "source": [],
      "metadata": {
        "id": "DOuV1VMakhb5"
      },
      "execution_count": null,
      "outputs": []
    },
    {
      "cell_type": "code",
      "source": [],
      "metadata": {
        "id": "DliujAW2kjgl"
      },
      "execution_count": null,
      "outputs": []
    }
  ]
}