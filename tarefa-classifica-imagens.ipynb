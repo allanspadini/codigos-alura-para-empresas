{
 "cells": [
  {
   "cell_type": "code",
   "execution_count": null,
   "metadata": {},
   "outputs": [],
   "source": [
    "#%kaggle datasets download -d warcoder/gkn-blade-surface-defect-dataset"
   ]
  },
  {
   "cell_type": "code",
   "execution_count": null,
   "metadata": {},
   "outputs": [],
   "source": [
    "#import zipfile\n",
    "\n",
    "# Substitua o nome do arquivo pelo nome correto\n",
    "#with zipfile.ZipFile(\"gkn-blade-surface-defect-dataset.zip\", 'r') as zip_ref:\n",
    "#    zip_ref.extractall(\"dados_extraidos\")  # Pasta onde os dados serão extraídos\n"
   ]
  },
  {
   "cell_type": "markdown",
   "metadata": {},
   "source": [
    "# Classificação de imagens"
   ]
  },
  {
   "cell_type": "code",
   "execution_count": null,
   "metadata": {},
   "outputs": [],
   "source": [
    "#%ls"
   ]
  },
  {
   "cell_type": "code",
   "execution_count": null,
   "metadata": {},
   "outputs": [],
   "source": [
    "import torch\n",
    "from torchvision import datasets, transforms\n",
    "from torch.utils.data import DataLoader,random_split"
   ]
  },
  {
   "cell_type": "markdown",
   "metadata": {},
   "source": [
    "# Transformações para pré-processamento"
   ]
  },
  {
   "cell_type": "code",
   "execution_count": null,
   "metadata": {},
   "outputs": [],
   "source": []
  },
  {
   "cell_type": "code",
   "execution_count": null,
   "metadata": {},
   "outputs": [],
   "source": []
  },
  {
   "cell_type": "markdown",
   "metadata": {},
   "source": [
    "# Dividir em treino e teste"
   ]
  },
  {
   "cell_type": "code",
   "execution_count": null,
   "metadata": {},
   "outputs": [],
   "source": []
  },
  {
   "cell_type": "markdown",
   "metadata": {},
   "source": [
    "# Calcular média e desvio padrão apenas no treino"
   ]
  },
  {
   "cell_type": "code",
   "execution_count": null,
   "metadata": {},
   "outputs": [],
   "source": []
  },
  {
   "cell_type": "markdown",
   "metadata": {},
   "source": [
    "# Aplicar transformações finais com normalização calculada\n"
   ]
  },
  {
   "cell_type": "code",
   "execution_count": null,
   "metadata": {},
   "outputs": [],
   "source": []
  },
  {
   "cell_type": "code",
   "execution_count": null,
   "metadata": {},
   "outputs": [],
   "source": []
  },
  {
   "cell_type": "code",
   "execution_count": null,
   "metadata": {},
   "outputs": [],
   "source": []
  },
  {
   "cell_type": "markdown",
   "metadata": {},
   "source": [
    "# Criar DataLoaders"
   ]
  },
  {
   "cell_type": "code",
   "execution_count": null,
   "metadata": {},
   "outputs": [],
   "source": []
  },
  {
   "cell_type": "markdown",
   "metadata": {},
   "source": [
    "# Criando um modelo do zero"
   ]
  },
  {
   "cell_type": "code",
   "execution_count": null,
   "metadata": {},
   "outputs": [],
   "source": []
  },
  {
   "cell_type": "code",
   "execution_count": null,
   "metadata": {},
   "outputs": [],
   "source": []
  },
  {
   "cell_type": "markdown",
   "metadata": {},
   "source": [
    "Como você estamos aplicando `transforms.Resize((224, 224))`, é necessário verificar se o tamanho da entrada da camada totalmente conectada (`fc1`) está correto. Vamos calcular isso.\n",
    "\n",
    "---\n",
    "\n",
    "### 📌 **Passo 1: Como as Camadas Convolucionais e Pooling Afetam o Tamanho?**\n",
    "Cada convolução (`Conv2d`) com `padding=1` e `kernel_size=3` mantém as dimensões, enquanto cada camada de `MaxPool2d(2,2)` reduz pela metade.\n",
    "\n",
    "#### **Transformação passo a passo para uma entrada de (224, 224):**\n",
    "1. **Entrada inicial**:  $ 224 \\times 224  $\n",
    "2. **Após `conv1` (Conv2d(3, 32, 3, padding=1))** → Dimensão **continua** $$  224 \\times 224  $$\n",
    "3. **Após `pool` (MaxPool2d(2,2))** → $  224 / 2 = 112 \\times 112  $ \n",
    "4. **Após `conv2` (Conv2d(32, 64, 3, padding=1))** → $  112 \\times 112  $ *(não muda devido ao padding)*\n",
    "5. **Após `pool` (MaxPool2d(2,2))** → $  112 / 2 = 56 \\times 56  $\n",
    "6. **Após `conv3` (Conv2d(64, 128, 3, padding=1))** → $ 56 \\times 56  $*(não muda devido ao padding)*\n",
    "7. **Após `pool` (MaxPool2d(2,2))** → $  56 / 2 = 28 \\times 28  $\n",
    "\n",
    "---\n",
    "\n",
    "### 📌 **Passo 2: Ajustando o `fc1`**\n",
    "O número de neurônios que entram na camada `fc1` é:\n",
    "\n",
    "\n",
    "$ 128 \\times 28 \\times 28 $\n",
    "\n",
    "\n",
    "Logo, **a linha correta do `fc1` deve ser**:\n",
    "```python\n",
    "self.fc1 = nn.Linear(128 * 28 * 28, 512)\n",
    "```\n",
    "\n"
   ]
  },
  {
   "cell_type": "markdown",
   "metadata": {},
   "source": [
    "# Criar o modelo"
   ]
  },
  {
   "cell_type": "code",
   "execution_count": null,
   "metadata": {},
   "outputs": [],
   "source": []
  },
  {
   "cell_type": "markdown",
   "metadata": {},
   "source": [
    "# Definir a Função de Perda e o Otimizador"
   ]
  },
  {
   "cell_type": "code",
   "execution_count": null,
   "metadata": {},
   "outputs": [],
   "source": [
    "\n"
   ]
  },
  {
   "cell_type": "markdown",
   "metadata": {},
   "source": [
    "# Treinar o modelo"
   ]
  },
  {
   "cell_type": "code",
   "execution_count": null,
   "metadata": {},
   "outputs": [],
   "source": []
  },
  {
   "cell_type": "markdown",
   "metadata": {},
   "source": [
    "# Avaliar no conjunto de teste"
   ]
  },
  {
   "cell_type": "code",
   "execution_count": null,
   "metadata": {},
   "outputs": [],
   "source": []
  },
  {
   "cell_type": "markdown",
   "metadata": {},
   "source": [
    "# Outro caminho - Transferência de aprendizagem"
   ]
  },
  {
   "cell_type": "markdown",
   "metadata": {},
   "source": [
    "https://pytorch.org/vision/main/models.html"
   ]
  },
  {
   "cell_type": "code",
   "execution_count": null,
   "metadata": {},
   "outputs": [],
   "source": []
  },
  {
   "cell_type": "markdown",
   "metadata": {},
   "source": [
    "Esse código está usando **Transfer Learning** com o modelo **ResNet-18** pré-treinado no ImageNet. Vamos entender linha por linha:\n",
    "\n",
    "---\n",
    "\n",
    "### 🔹 **Linha 1: Definição do Número de Classes**\n",
    "```python\n",
    "num_classes = 3\n",
    "```\n",
    "Aqui, definimos que o dataset possui **3 classes** (exemplo: `['Good', 'Nick', 'Scratch']`). O modelo precisa ajustar a saída para esse número.\n",
    "\n",
    "---\n",
    "\n",
    "### 🔹 **Linha 2: Carregamento da ResNet-18 Pré-Treinada**\n",
    "```python\n",
    "model = models.resnet18(pretrained=True)\n",
    "```\n",
    "- Baixa a **ResNet-18** pré-treinada no **ImageNet** (que tem 1.000 classes).\n",
    "- O modelo já aprendeu a detectar padrões básicos como bordas, texturas e formas, o que pode ser reutilizado para novas tarefas.\n",
    "\n",
    "---\n",
    "\n",
    "### 🔹 **Linha 3: Obtendo o Número de Entradas da Última Camada**\n",
    "```python\n",
    "num_ftrs = model.fc.in_features\n",
    "```\n",
    "- O modelo ResNet-18 tem uma **camada totalmente conectada (fc)** na saída.\n",
    "- Essa camada original tem **1.000 neurônios** (porque o ImageNet tem 1.000 classes).\n",
    "- `model.fc.in_features` retorna **o número de entradas dessa camada** (ou seja, quantos neurônios da penúltima camada conectam na saída).\n",
    "- Na ResNet-18, esse valor geralmente é **512**.\n",
    "\n",
    "---\n",
    "\n",
    "### 🔹 **Linha 4: Substituindo a Última Camada**\n",
    "```python\n",
    "model.fc = nn.Linear(num_ftrs, num_classes)\n",
    "```\n",
    "- Como nosso dataset tem apenas **3 classes**, trocamos a última camada.\n",
    "- A nova `fc` agora recebe **512 entradas** (da penúltima camada da ResNet) e **3 saídas** (uma para cada classe).\n",
    "\n",
    "---\n",
    "\n",
    "### 🔹 **Resumo**\n",
    "1. **Baixamos a ResNet-18 pré-treinada** para reutilizar suas camadas convolucionais.\n",
    "2. **Descobrimos quantas features são passadas para a última camada (`fc`)**.\n",
    "3. **Trocamos a última camada** para que a rede aprenda a classificar apenas 3 classes, ao invés das 1.000 do ImageNet.\n",
    "\n",
    "---\n",
    "\n",
    "### 🔹 **Fluxo do Modelo Antes e Depois**\n",
    "**Antes (original da ResNet-18 no ImageNet):**\n",
    "```\n",
    "Camadas convolucionais → Global Avg Pooling → nn.Linear(512, 1000)\n",
    "```\n",
    "**Depois (ajustado para nosso problema):**\n",
    "```\n",
    "Camadas convolucionais → Global Avg Pooling → nn.Linear(512, 3)\n",
    "```\n",
    "Ou seja, **mantemos todo o aprendizado da ResNet-18**, mas adaptamos a saída para nosso próprio problema! 🚀🔥"
   ]
  },
  {
   "cell_type": "code",
   "execution_count": null,
   "metadata": {},
   "outputs": [],
   "source": []
  },
  {
   "cell_type": "markdown",
   "metadata": {},
   "source": [
    "# Treinar o modelo"
   ]
  },
  {
   "cell_type": "code",
   "execution_count": null,
   "metadata": {},
   "outputs": [],
   "source": []
  },
  {
   "cell_type": "markdown",
   "metadata": {},
   "source": [
    "# Avaliar no Conjunto de teste"
   ]
  },
  {
   "cell_type": "code",
   "execution_count": null,
   "metadata": {},
   "outputs": [],
   "source": []
  },
  {
   "cell_type": "markdown",
   "metadata": {},
   "source": [
    "# Salvar e carregar o modelo"
   ]
  },
  {
   "cell_type": "code",
   "execution_count": null,
   "metadata": {},
   "outputs": [],
   "source": []
  },
  {
   "cell_type": "code",
   "execution_count": null,
   "metadata": {},
   "outputs": [],
   "source": []
  },
  {
   "cell_type": "markdown",
   "metadata": {},
   "source": [
    "# Fazer previsões em novas imagens"
   ]
  },
  {
   "cell_type": "code",
   "execution_count": null,
   "metadata": {},
   "outputs": [],
   "source": []
  }
 ],
 "metadata": {
  "language_info": {
   "name": "python"
  }
 },
 "nbformat": 4,
 "nbformat_minor": 2
}
