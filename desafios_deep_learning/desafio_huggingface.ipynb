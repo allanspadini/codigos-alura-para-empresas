{
  "nbformat": 4,
  "nbformat_minor": 0,
  "metadata": {
    "colab": {
      "provenance": [],
      "gpuType": "T4"
    },
    "kernelspec": {
      "name": "python3",
      "display_name": "Python 3"
    },
    "language_info": {
      "name": "python"
    },
    "accelerator": "GPU"
  },
  "cells": [
    {
      "cell_type": "markdown",
      "source": [
        "https://huggingface.co/docs/transformers/pipeline_tutorial"
      ],
      "metadata": {
        "id": "7cYB0PWuBLOe"
      }
    },
    {
      "cell_type": "markdown",
      "source": [
        "# Tarefa 1: Análise de sentimento"
      ],
      "metadata": {
        "id": "soS1vlM0-vp5"
      }
    },
    {
      "cell_type": "markdown",
      "source": [
        "Nesta tarefa, você deverá criar um código em Python utilizando a biblioteca Transformers para implementar um classificador de sentimentos. O objetivo é configurar uma pipeline de análise de sentimentos que utilize modelos pré-treinados para identificar se uma frase possui um sentimento positivo, negativo ou neutro. Você deverá configurar um modelo para análise de sentimentos em inglês e outro para português, garantindo que ambos sejam capazes de processar frases nesses idiomas. Como exemplo, o código deve ser capaz de analisar frases como \"I love this product\" (em inglês) e \"Eu adoro este produto\" (em português), retornando a classificação do sentimento correspondente."
      ],
      "metadata": {
        "id": "k7DXhUbCCSfK"
      }
    },
    {
      "cell_type": "code",
      "source": [],
      "metadata": {
        "id": "7LK1D34v-W0T"
      },
      "execution_count": null,
      "outputs": []
    },
    {
      "cell_type": "code",
      "source": [],
      "metadata": {
        "id": "evTyup5R-eZ0"
      },
      "execution_count": null,
      "outputs": []
    },
    {
      "cell_type": "code",
      "source": [],
      "metadata": {
        "id": "aYnwd23D-haF"
      },
      "execution_count": null,
      "outputs": []
    },
    {
      "cell_type": "code",
      "source": [],
      "metadata": {
        "id": "MOgSff4C-lq-"
      },
      "execution_count": null,
      "outputs": []
    },
    {
      "cell_type": "markdown",
      "source": [
        "# Tarefa 2: Análise de sentimento em dataset"
      ],
      "metadata": {
        "id": "7XbGJ6L-Bz9p"
      }
    },
    {
      "cell_type": "markdown",
      "source": [
        "Nesta tarefa, você deverá criar um código em Python que utilize a biblioteca Pandas para manipular dados e aplicar um modelo de análise de sentimentos em um conjunto de resenhas. O código deve importar um arquivo CSV diretamente de uma URL, carregando os dados em um DataFrame. Em seguida, você deverá aplicar um classificador de sentimentos previamente configurado (como o usado em uma tarefa anterior) à coluna que contém as resenhas e armazenar os resultados das previsões. Por fim, o código deve exibir as previsões realizadas."
      ],
      "metadata": {
        "id": "Msq7N7jVCp3w"
      }
    },
    {
      "cell_type": "code",
      "source": [],
      "metadata": {
        "id": "dtmWe5Qx-ovR"
      },
      "execution_count": null,
      "outputs": []
    },
    {
      "cell_type": "code",
      "source": [],
      "metadata": {
        "id": "rbREE68c-p_m"
      },
      "execution_count": null,
      "outputs": []
    },
    {
      "cell_type": "code",
      "source": [],
      "metadata": {
        "id": "JIHqy9Op-rJQ"
      },
      "execution_count": null,
      "outputs": []
    },
    {
      "cell_type": "code",
      "source": [],
      "metadata": {
        "id": "WG9kMerQ-uTf"
      },
      "execution_count": null,
      "outputs": []
    },
    {
      "cell_type": "markdown",
      "source": [
        "# Tarefa 3: Categorizando produtos"
      ],
      "metadata": {
        "id": "NS9BSQ40_HoT"
      }
    },
    {
      "cell_type": "markdown",
      "source": [
        "Nesta tarefa, você deverá criar um código em Python que utilize a biblioteca Transformers para implementar um classificador de categorias usando o modelo de zero-shot classification. O objetivo é configurar uma pipeline com um modelo pré-treinado capaz de classificar textos em categorias pré-definidas, mesmo sem treinamento específico para essas categorias. Você deverá criar uma lista com algumas categorias de exemplo (como \"eletronics\", \"food\", \"toys\" e \"books\") e, em seguida, usar o modelo para classificar um texto descritivo, como uma frase sobre um produto ou serviço."
      ],
      "metadata": {
        "id": "zNb2CLnmD-_C"
      }
    },
    {
      "cell_type": "code",
      "source": [],
      "metadata": {
        "id": "2zhPWY0S_LyN"
      },
      "execution_count": null,
      "outputs": []
    },
    {
      "cell_type": "markdown",
      "source": [
        "# Tarefa 4: QA"
      ],
      "metadata": {
        "id": "UAgLB1aI_Tfy"
      }
    },
    {
      "cell_type": "markdown",
      "source": [
        "Nesta tarefa, você deverá criar um código em Python que utilize a biblioteca Transformers para implementar um modelo de Perguntas e Respostas (Question Answering). O objetivo é configurar uma pipeline com um modelo pré-treinado capaz de responder perguntas com base em um contexto fornecido. Para isso, você deve criar uma função que receba uma pergunta e um contexto como entrada e retorne a resposta gerada pelo modelo. Como exemplo, utilize uma pergunta como \"What are the payment options available?\" e um contexto que descreva as opções de pagamento disponíveis em um e-commerce."
      ],
      "metadata": {
        "id": "xcnE1HnKEWI4"
      }
    },
    {
      "cell_type": "code",
      "source": [],
      "metadata": {
        "id": "xpJRH1he_WpR"
      },
      "execution_count": null,
      "outputs": []
    },
    {
      "cell_type": "code",
      "source": [],
      "metadata": {
        "id": "adsea3zX_Zuk"
      },
      "execution_count": null,
      "outputs": []
    },
    {
      "cell_type": "code",
      "source": [
        "\n"
      ],
      "metadata": {
        "id": "yk6j9elH_cH6"
      },
      "execution_count": null,
      "outputs": []
    },
    {
      "cell_type": "code",
      "source": [],
      "metadata": {
        "id": "MAIwdNIz_fPR"
      },
      "execution_count": null,
      "outputs": []
    },
    {
      "cell_type": "code",
      "source": [],
      "metadata": {
        "id": "eMAkQabK_g4h"
      },
      "execution_count": null,
      "outputs": []
    },
    {
      "cell_type": "code",
      "source": [],
      "metadata": {
        "id": "EKj3g735_iZp"
      },
      "execution_count": null,
      "outputs": []
    },
    {
      "cell_type": "markdown",
      "source": [
        "# Tarefa 5: NER"
      ],
      "metadata": {
        "id": "uWfgEuFl_lWl"
      }
    },
    {
      "cell_type": "markdown",
      "source": [
        "Nesta tarefa, você deverá criar um código em Python que utilize a biblioteca Transformers para implementar uma pipeline de Reconhecimento de Entidades Nomeadas (NER - Named Entity Recognition). O objetivo é identificar e classificar automaticamente entidades mencionadas em um texto, como nomes de pessoas, organizações, locais e outros tipos de entidades. Para isso, configure uma pipeline de NER com agrupamento de entidades e aplique-a a um texto de exemplo, como: \"A Apple anunciou o novo iPhone 13 em um evento em San Francisco. Tim Cook apresentou as novidades ao público.\""
      ],
      "metadata": {
        "id": "NxAqlqNdFU2u"
      }
    },
    {
      "cell_type": "code",
      "source": [],
      "metadata": {
        "id": "JcqwQ9zj_oKA"
      },
      "execution_count": null,
      "outputs": []
    },
    {
      "cell_type": "markdown",
      "source": [
        "# Imagem para texto"
      ],
      "metadata": {
        "id": "r0HracuO_sfN"
      }
    },
    {
      "cell_type": "markdown",
      "source": [
        "Nesta tarefa, você deverá criar um código em Python que utilize a biblioteca Diffusers para gerar imagens a partir de descrições textuais, utilizando o modelo Stable Diffusion. O objetivo é configurar uma pipeline de geração de imagens baseada em texto, carregar um modelo pré-treinado do Hugging Face Hub e criar uma imagem com base em um prompt. Como exemplo, utilize o prompt \"Um ambiente de fábrica e linha de produção\" para gerar uma imagem."
      ],
      "metadata": {
        "id": "vV645EbNFnmB"
      }
    },
    {
      "cell_type": "code",
      "execution_count": null,
      "metadata": {
        "id": "KDst4Cn79JQV"
      },
      "outputs": [],
      "source": []
    },
    {
      "cell_type": "code",
      "source": [],
      "metadata": {
        "id": "DEa_Ve5u9ct8"
      },
      "execution_count": null,
      "outputs": []
    },
    {
      "cell_type": "code",
      "source": [],
      "metadata": {
        "id": "Whq_l-bUBP7-"
      },
      "execution_count": null,
      "outputs": []
    },
    {
      "cell_type": "code",
      "source": [],
      "metadata": {
        "id": "4PqXCeFwBREO"
      },
      "execution_count": null,
      "outputs": []
    },
    {
      "cell_type": "code",
      "source": [],
      "metadata": {
        "id": "qgraz1yrBg4T"
      },
      "execution_count": null,
      "outputs": []
    }
  ]
}