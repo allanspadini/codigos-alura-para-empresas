{
  "nbformat": 4,
  "nbformat_minor": 0,
  "metadata": {
    "colab": {
      "provenance": [],
      "gpuType": "T4"
    },
    "kernelspec": {
      "name": "python3",
      "display_name": "Python 3"
    },
    "language_info": {
      "name": "python"
    },
    "accelerator": "GPU"
  },
  "cells": [
    {
      "cell_type": "markdown",
      "source": [
        "https://www.kaggle.com/datasets/hemanthsai7/solar-panel-dust-detection"
      ],
      "metadata": {
        "id": "rYrOST2bN-yL"
      }
    },
    {
      "cell_type": "markdown",
      "source": [
        "### Storytelling: **A Jornada pela Eficiência Energética**\n",
        "\n",
        "---\n",
        "\n",
        "Imagine um mundo onde a energia solar é a principal fonte de eletricidade, alimentando nossas casas, cidades e indústrias de forma limpa e sustentável. Esse futuro parece promissor, mas há um desafio que muitas vezes passa despercebido: **a eficiência das placas solares**.\n",
        "\n",
        "As placas solares são incríveis em transformar luz solar em energia elétrica, mas sua eficiência pode ser drasticamente reduzida por algo tão simples quanto **poeira acumulada**. Um painel empoeirado pode gerar até **30% menos energia**, impactando diretamente a sustentabilidade e a economia de projetos de energia solar. Agora pense: como podemos identificar placas solares que precisam de limpeza sem depender de inspeções manuais demoradas e caras?\n",
        "\n",
        "Aqui entra a tecnologia. Com o poder da **inteligência artificial** e do **aprendizado profundo (deep learning)**, podemos criar sistemas capazes de analisar imagens de placas solares e determinar automaticamente se estão limpas ou empoeiradas. Esse tipo de solução não apenas melhora a eficiência dos sistemas solares, mas também reduz custos operacionais e promove uma maior adoção de energias renováveis.\n",
        "\n",
        "---\n",
        "\n",
        "### **O Desafio**\n",
        "\n",
        "Você, como cientista de dados em formação, está prestes a embarcar em um projeto que pode impactar diretamente o futuro da energia limpa. Seu objetivo é desenvolver um modelo de classificação de imagens que diferencie placas solares limpas de placas empoeiradas. Para isso, você usará **PyTorch**, uma das bibliotecas mais poderosas para aprendizado profundo.\n",
        "\n",
        "Ao longo desta jornada, você enfrentará desafios que vão desde o pré-processamento de dados até o treinamento e validação de um modelo de aprendizado profundo. Cada etapa é um passo rumo a uma solução prática para melhorar a eficiência energética em larga escala.\n",
        "\n",
        "---\n",
        "\n",
        "### **Por que isso é importante?**\n",
        "\n",
        "1. **Sustentabilidade**: Identificar placas solares ineficientes ajuda a maximizar a geração de energia limpa.\n",
        "2. **Economia**: Reduz os custos de manutenção ao permitir inspeções mais rápidas e precisas.\n",
        "3. **Escalabilidade**: Soluções automatizadas podem ser aplicadas em parques solares de qualquer tamanho, em qualquer lugar do mundo.\n",
        "\n",
        "Além disso, essa experiência prática não apenas contribui para um futuro mais sustentável, mas também prepara você para resolver problemas reais usando **machine learning**.\n",
        "\n",
        "---\n",
        "\n",
        "### **A Jornada Técnica**\n",
        "\n",
        "Você começará lidando com os dados: imagens de placas solares limpas e empoeiradas. Sua primeira tarefa será preparar essas imagens para que possam ser usadas no treinamento do modelo. Em seguida, você projetará e implementará uma rede neural convolucional (CNN) para realizar a classificação. Depois, configurará funções de perda e otimizadores para treinar o modelo. Por fim, validará sua solução e medirá sua acurácia.\n",
        "\n",
        "Cada etapa é uma peça essencial no quebra-cabeça da eficiência energética. E o melhor: você estará aprendendo habilidades valiosas ao longo do caminho.\n",
        "\n",
        "---\n",
        "\n",
        "### **O Impacto do Seu Trabalho**\n",
        "\n",
        "Imagine o impacto de sua solução sendo aplicada em um parque solar de grande escala. Com seu modelo, uma câmera pode capturar imagens de placas solares e, em questão de segundos, identificar quais precisam de limpeza. Isso significa mais energia gerada, menos desperdício e um passo significativo em direção a um mundo movido por energia limpa.\n",
        "\n",
        "Você está pronto para esse desafio? Vamos transformar dados em soluções e construir um futuro mais sustentável juntos."
      ],
      "metadata": {
        "id": "AieA3-KJc1IV"
      }
    },
    {
      "cell_type": "markdown",
      "source": [
        "# Pré-processamento"
      ],
      "metadata": {
        "id": "As5Ac7X1OdOt"
      }
    },
    {
      "cell_type": "code",
      "execution_count": null,
      "metadata": {
        "id": "HUK4dPbuN1RU"
      },
      "outputs": [],
      "source": [
        "import kagglehub\n",
        "\n",
        "# Download latest version\n",
        "path = kagglehub.dataset_download(\"hemanthsai7/solar-panel-dust-detection\")\n",
        "\n",
        "print(\"Path to dataset files:\", path)"
      ]
    },
    {
      "cell_type": "code",
      "source": [
        "import os\n",
        "\n",
        "# Listar os arquivos no diretório\n",
        "files = os.listdir(path)\n",
        "print(\"Arquivos no diretório:\", files)"
      ],
      "metadata": {
        "id": "LN9RYxRnOgyb"
      },
      "execution_count": null,
      "outputs": []
    },
    {
      "cell_type": "code",
      "source": [
        "files_path = os.path.join(path, 'Detect_solar_dust')"
      ],
      "metadata": {
        "id": "blKeSKhdOxcY"
      },
      "execution_count": null,
      "outputs": []
    },
    {
      "cell_type": "markdown",
      "source": [
        "# Tarefa 1: Transformações e carregamento das imagens"
      ],
      "metadata": {
        "id": "Qg9yHFt7Sh4m"
      }
    },
    {
      "cell_type": "markdown",
      "source": [
        "O primeiro passo para construir nosso modelo de classificação é preparar os dados. Nesta tarefa, você será responsável por realizar as **transformações necessárias** nas imagens do dataset e carregá-las para o treinamento do modelo. Lembre-se: a qualidade do pré-processamento dos dados é crucial para o desempenho da rede neural!\n",
        "\n",
        "---\n",
        "\n",
        "### **O que você deve fazer?**\n",
        "\n",
        "1. **Transformações nas imagens**:  \n",
        "   As imagens precisam ser ajustadas para que possam ser processadas pelo modelo. Algumas transformações importantes incluem:  \n",
        "   - **Redimensionar** as imagens para um tamanho uniforme (por exemplo, 128x128 pixels).  \n",
        "   - **Converter** as imagens em tensores, que são o formato que o PyTorch utiliza.  \n",
        "   - **Normalizar** os valores dos pixels para que fiquem em uma escala adequada para o treinamento (por exemplo, entre -1 e 1).  \n",
        "\n",
        "2. **Carregar o dataset**:  \n",
        "   Utilize o dataset fornecido para criar um conjunto de dados que possa ser usado no treinamento e validação do modelo. Para isso, você precisará:\n",
        "   - Usar a classe `ImageFolder` do PyTorch para organizar as imagens.  \n",
        "   - Dividir o dataset em dois subconjuntos: **treinamento** e **validação**.  \n",
        "   - Criar **DataLoaders**, que são responsáveis por carregar os dados em lotes (batches) durante o treinamento.\n",
        "\n",
        "---\n",
        "\n",
        "### **Dica para começar**\n",
        "\n",
        "Você pode usar a biblioteca `torchvision.transforms` para criar uma sequência de transformações.\n",
        "\n",
        "Depois de definir as transformações, você pode aplicá-las ao carregar o dataset usando `datasets.ImageFolder`.\n",
        "\n",
        "---\n",
        "\n",
        "### **Objetivo Final da Tarefa**\n",
        "\n",
        "Ao final desta etapa, você deverá ter:\n",
        "- Um dataset preparado com as transformações aplicadas.\n",
        "- Dois subconjuntos: **treinamento** e **validação**.\n",
        "- DataLoaders configurados para carregar os dados em lotes.\n",
        "\n",
        "Teste sua implementação imprimindo o tamanho de um lote de imagens e labels para verificar se tudo está funcionando corretamente.\n",
        "\n",
        "Boa sorte! 🚀"
      ],
      "metadata": {
        "id": "3ynzxopQddvV"
      }
    },
    {
      "cell_type": "markdown",
      "source": [
        "https://pytorch.org/vision/0.9/transforms.html"
      ],
      "metadata": {
        "id": "a-8KXdWBeex3"
      }
    },
    {
      "cell_type": "code",
      "source": [],
      "metadata": {
        "id": "TYaoz0XBSf3F"
      },
      "execution_count": null,
      "outputs": []
    },
    {
      "cell_type": "code",
      "source": [],
      "metadata": {
        "id": "WfOF12vsO_Jn"
      },
      "execution_count": null,
      "outputs": []
    },
    {
      "cell_type": "code",
      "source": [],
      "metadata": {
        "id": "nNrFm57_T5ko"
      },
      "execution_count": null,
      "outputs": []
    },
    {
      "cell_type": "code",
      "source": [],
      "metadata": {
        "id": "18DxHrfIUAF_"
      },
      "execution_count": null,
      "outputs": []
    },
    {
      "cell_type": "markdown",
      "source": [
        "https://www.geeksforgeeks.org/how-to-use-a-dataloader-in-pytorch/"
      ],
      "metadata": {
        "id": "h-VEiTh9ehKV"
      }
    },
    {
      "cell_type": "code",
      "source": [],
      "metadata": {
        "id": "Nql5XnP5UG0y"
      },
      "execution_count": null,
      "outputs": []
    },
    {
      "cell_type": "code",
      "source": [],
      "metadata": {
        "id": "nRgJN-CGUKE4"
      },
      "execution_count": null,
      "outputs": []
    },
    {
      "cell_type": "markdown",
      "source": [
        "# Tarefa 2: Denifir o modelo"
      ],
      "metadata": {
        "id": "ftZr5mZ8VGPr"
      }
    },
    {
      "cell_type": "markdown",
      "source": [
        "https://pytorch.org/tutorials/beginner/introyt/modelsyt_tutorial.html"
      ],
      "metadata": {
        "id": "YUeEfQdEfBZN"
      }
    },
    {
      "cell_type": "markdown",
      "source": [
        "Agora que os dados já estão preparados, é hora de criar o coração do projeto: o **modelo de classificação**. Nesta etapa, você será responsável por definir uma **rede neural convolucional (CNN)** capaz de classificar as imagens de placas solares em \"limpas\" ou \"empoeiradas\". Este é um passo essencial para ensinar a máquina a reconhecer padrões visuais nas imagens.\n",
        "\n",
        "---\n",
        "\n",
        "### **O que você deve fazer?**\n",
        "\n",
        "1. **Criar a estrutura do modelo**:  \n",
        "   - Sua rede neural deve incluir **camadas convolucionais** para extrair características importantes das imagens.  \n",
        "   - Use **funções de ativação**, como a ReLU, para introduzir não-linearidade no modelo.  \n",
        "   - Adicione camadas de **pooling** para reduzir a dimensionalidade dos dados e aumentar a eficiência computacional.  \n",
        "   - Inclua camadas **totalmente conectadas (fully connected)** no final, responsáveis por realizar a classificação.  \n",
        "\n",
        "2. **Escolher o número de classes**:  \n",
        "   Como estamos classificando imagens em duas categorias (\"limpas\" ou \"empoeiradas\"), o número de classes será **2**.\n",
        "\n",
        "3. **Montar o `forward`**:  \n",
        "   Defina como os dados passarão pela rede, desde as camadas convolucionais até a saída final.\n",
        "\n",
        "4. **Verificar a estrutura do modelo**:  \n",
        "   Ao final, imprima o modelo definido para garantir que ele foi configurado corretamente.\n",
        "\n",
        "---\n",
        "\n",
        "### **Dica para começar**\n",
        "\n",
        "Você pode começar criando uma classe que herda de `torch.nn.Module`. Aqui está um esqueleto inicial para ajudá-lo:"
      ],
      "metadata": {
        "id": "XZpIEt80f7n1"
      }
    },
    {
      "cell_type": "code",
      "source": [],
      "metadata": {
        "id": "qBrRh4XPULjD"
      },
      "execution_count": null,
      "outputs": []
    },
    {
      "cell_type": "code",
      "source": [],
      "metadata": {
        "id": "prRFKHLTXjKC"
      },
      "execution_count": null,
      "outputs": []
    },
    {
      "cell_type": "code",
      "source": [],
      "metadata": {
        "id": "RJFjkq-eYZCE"
      },
      "execution_count": null,
      "outputs": []
    },
    {
      "cell_type": "markdown",
      "source": [
        "# Tarefa 3: Configurar a Função de Perda e o Otimizador"
      ],
      "metadata": {
        "id": "VDWtIcpHZVM_"
      }
    },
    {
      "cell_type": "markdown",
      "source": [
        "Com o modelo definido, chegou a hora de configurar os componentes essenciais para o treinamento: a **função de perda** e o **otimizador**. Esses elementos são fundamentais para ensinar o modelo a aprender a partir dos dados e melhorar suas previsões ao longo do treinamento.\n",
        "\n",
        "---\n",
        "\n",
        "### **O que você deve fazer?**\n",
        "\n",
        "1. **Escolher a função de perda**:  \n",
        "   Como estamos lidando com um problema de **classificação binária** (duas classes: \"limpas\" e \"empoeiradas\"), a função de perda mais adequada é a **Binary Cross-Entropy Loss**. No PyTorch, você pode usar `nn.BCEWithLogitsLoss`, que combina a função de perda de entropia cruzada com uma função sigmoide interna para maior estabilidade numérica.\n",
        "\n",
        "2. **Configurar o otimizador**:  \n",
        "   O otimizador é responsável por ajustar os pesos do modelo durante o treinamento. O **Adam** é uma ótima escolha inicial, pois é eficiente e se adapta bem a diferentes problemas. No PyTorch, você pode usar `torch.optim.Adam`.\n",
        "\n",
        "3. **Definir a taxa de aprendizado (learning rate)**:  \n",
        "   Escolha um valor inicial para a taxa de aprendizado, como `0.001`. Esse parâmetro controla o tamanho dos passos que o otimizador dará ao ajustar os pesos.\n",
        "\n",
        "---\n",
        "\n",
        "**Nota:** Certifique-se de passar os parâmetros do modelo (`model.parameters()`) para o otimizador, para que ele saiba quais pesos deve atualizar.\n"
      ],
      "metadata": {
        "id": "x05erjblg6wE"
      }
    },
    {
      "cell_type": "code",
      "source": [],
      "metadata": {
        "id": "fCKHqluXZYxp"
      },
      "execution_count": null,
      "outputs": []
    },
    {
      "cell_type": "markdown",
      "source": [
        "# Tarefa 4: Treinamento"
      ],
      "metadata": {
        "id": "hydhYcC7VWeH"
      }
    },
    {
      "cell_type": "markdown",
      "source": [
        "Agora que o modelo, a função de perda e o otimizador estão configurados, chegou o momento mais importante: **treinar o modelo**! Durante esta etapa, você irá ajustar os pesos da rede neural utilizando os dados de treinamento, enquanto monitora seu desempenho nos dados de validação.\n",
        "\n",
        "---\n",
        "\n",
        "### **O que você deve fazer?**\n",
        "\n",
        "1. **Definir o loop de treinamento**:  \n",
        "   - Percorra os dados de treinamento em **batches** usando o DataLoader.  \n",
        "   - Para cada batch, execute as seguintes etapas:\n",
        "     - Faça uma **passagem para frente (forward pass)** para calcular as previsões do modelo.  \n",
        "     - Calcule a **função de perda** comparando as previsões com os rótulos reais.  \n",
        "     - Execute uma **passagem para trás (backward pass)** para calcular os gradientes.  \n",
        "     - Atualize os pesos do modelo usando o otimizador.  \n",
        "\n",
        "2. **Monitorar o desempenho no treinamento**:  \n",
        "   - Registre a **perda média** (loss) por época para acompanhar o progresso.  \n",
        "\n",
        "\n",
        "\n",
        "\n"
      ],
      "metadata": {
        "id": "TNNEIHk6iSr8"
      }
    },
    {
      "cell_type": "code",
      "source": [],
      "metadata": {
        "id": "vQGpHavUVeKA"
      },
      "execution_count": null,
      "outputs": []
    },
    {
      "cell_type": "markdown",
      "source": [
        "# Tarefa 5: Validação"
      ],
      "metadata": {
        "id": "n4yFwv93Ve7G"
      }
    },
    {
      "cell_type": "markdown",
      "source": [
        "Após o treinamento, é essencial validar o modelo para avaliar seu desempenho em dados que ele **não viu durante o treinamento**. A validação ajuda a entender se o modelo está generalizando bem e pode ser usado para ajustar hiperparâmetros ou identificar problemas como **overfitting**.\n",
        "\n",
        "---\n",
        "\n",
        "### **O que você deve fazer?**\n",
        "\n",
        "1. **Configurar o modelo para avaliação**:  \n",
        "   - Coloque o modelo em modo de avaliação usando `model.eval()`. Isso garante que camadas como dropout e batch normalization se comportem corretamente durante a validação.\n",
        "\n",
        "2. **Iterar sobre o conjunto de validação**:  \n",
        "   - Use o `DataLoader` de validação para processar os dados em **batches**.  \n",
        "   - Para cada batch, calcule as previsões do modelo e compare com os rótulos reais.\n",
        "\n",
        "3. **Calcular métricas de desempenho**:  \n",
        "   - **Acurácia**: Percentual de previsões corretas.  \n",
        "   - Outras métricas opcionais (dependendo do problema):  \n"
      ],
      "metadata": {
        "id": "1XM-7cwmjsYV"
      }
    },
    {
      "cell_type": "code",
      "source": [],
      "metadata": {
        "id": "kQLkK7GtVh4p"
      },
      "execution_count": null,
      "outputs": []
    },
    {
      "cell_type": "markdown",
      "source": [
        "# Tarefa 6: Treinamento com Transferência de Aprendizado\n",
        "\n",
        "A transferência de aprendizado é uma técnica poderosa que permite aproveitar modelos pré-treinados em grandes conjuntos de dados (como o ImageNet) para resolver problemas específicos com menos dados e menor tempo de treinamento. Nesta tarefa, você irá utilizar um modelo pré-treinado, ajustar suas camadas finais e treiná-lo para o problema de classificação binária.\n",
        "\n",
        "---\n",
        "\n",
        "### **O que você deve fazer?**\n",
        "\n",
        "1. **Escolher um modelo pré-treinado**:  \n",
        "   - Use um modelo disponível no PyTorch, como `resnet18`, `vgg16`, ou `mobilenet_v2`.  \n",
        "   - Esses modelos estão disponíveis no módulo `torchvision.models`.\n",
        "\n",
        "2. **Carregar o modelo pré-treinado**:  \n",
        "   - Baixe o modelo com pesos pré-treinados no ImageNet.  \n",
        "   - Substitua a última camada (ou camadas) para que o modelo se adapte ao seu problema de classificação binária.\n",
        "\n",
        "3. **Congelar as camadas iniciais (opcional)**:  \n",
        "   - Para evitar treinar todas as camadas do modelo (o que pode ser demorado), congele as camadas iniciais e treine apenas as camadas finais.\n",
        "\n",
        "4. **Treinar o modelo**:  \n",
        "   - Use o mesmo loop de treinamento definido anteriormente, mas agora com o modelo pré-treinado ajustado.\n",
        "\n",
        "---\n",
        "\n",
        "https://pytorch.org/vision/0.20/models.html"
      ],
      "metadata": {
        "id": "eK-naBc9lqY_"
      }
    },
    {
      "cell_type": "code",
      "source": [],
      "metadata": {
        "id": "zYlOfa-sl7yp"
      },
      "execution_count": null,
      "outputs": []
    },
    {
      "cell_type": "code",
      "source": [],
      "metadata": {
        "id": "WrkoOv2PmY7l"
      },
      "execution_count": null,
      "outputs": []
    },
    {
      "cell_type": "code",
      "source": [],
      "metadata": {
        "id": "c5GGfsvGmgky"
      },
      "execution_count": null,
      "outputs": []
    }
  ]
}