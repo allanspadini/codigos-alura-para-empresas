{
  "nbformat": 4,
  "nbformat_minor": 0,
  "metadata": {
    "colab": {
      "provenance": []
    },
    "kernelspec": {
      "name": "python3",
      "display_name": "Python 3"
    },
    "language_info": {
      "name": "python"
    }
  },
  "cells": [
    {
      "cell_type": "markdown",
      "source": [
        "# Problema:"
      ],
      "metadata": {
        "id": "SfuVewe6dTXE"
      }
    },
    {
      "cell_type": "markdown",
      "source": [
        "Imagine que você está planejando comprar um novo laptop. Uma das primeiras características que provavelmente chamará sua atenção é o tamanho da tela. Será que laptops com telas maiores são necessariamente mais caros? Essa é uma pergunta que muitos consumidores fazem, e hoje vamos descobrir a resposta através dos dados."
      ],
      "metadata": {
        "id": "fskUsvwMdZoV"
      }
    },
    {
      "cell_type": "markdown",
      "source": [
        "## Passo 1: Importar as bibliotecas necessárias\n",
        "Primeiro, precisamos importar as bibliotecas que vamos utilizar."
      ],
      "metadata": {
        "id": "8wEzrOr8aRvG"
      }
    },
    {
      "cell_type": "code",
      "execution_count": null,
      "metadata": {
        "id": "w3xf3rlHaFj-"
      },
      "outputs": [],
      "source": [
        "import pandas as pd\n",
        "import numpy as np\n",
        "from sklearn.linear_model import LinearRegression\n",
        "import matplotlib.pyplot as plt"
      ]
    },
    {
      "cell_type": "markdown",
      "source": [
        "## Passo 2: Carregar e preparar os dados\n",
        "Vamos carregar o arquivo CSV e verificar as primeiras linhas."
      ],
      "metadata": {
        "id": "q7TQ6iWWad5x"
      }
    },
    {
      "cell_type": "code",
      "source": [
        "url = 'https://github.com/allanspadini/codigos-alura-para-empresas/raw/refs/heads/main/laptop_prices.csv'"
      ],
      "metadata": {
        "id": "DDL6NrF1aebb"
      },
      "execution_count": null,
      "outputs": []
    },
    {
      "cell_type": "code",
      "source": [
        "# Carregar os dados\n",
        "df = pd.read_csv(url)"
      ],
      "metadata": {
        "id": "iTYFBFprapWm"
      },
      "execution_count": null,
      "outputs": []
    },
    {
      "cell_type": "code",
      "source": [
        "df.head()"
      ],
      "metadata": {
        "id": "i-SO9N9Rb7Bk"
      },
      "execution_count": null,
      "outputs": []
    },
    {
      "cell_type": "markdown",
      "source": [
        "# Objetivo 1: Fazer a regressão linear considerando apenas a variável independente Screen Size e como variável dependente o Price ($)."
      ],
      "metadata": {
        "id": "VUV8JK5obz6b"
      }
    },
    {
      "cell_type": "code",
      "source": [],
      "metadata": {
        "id": "AGcJVO5Zbqrz"
      },
      "execution_count": null,
      "outputs": []
    },
    {
      "cell_type": "markdown",
      "source": [
        "## Passo 3: Criar e treinar o modelo de regressão linear\n",
        "Agora vamos criar o modelo e ajustá-lo aos dados."
      ],
      "metadata": {
        "id": "X239LStXe97m"
      }
    },
    {
      "cell_type": "code",
      "source": [],
      "metadata": {
        "id": "_tx6WJv8e2QO"
      },
      "execution_count": null,
      "outputs": []
    },
    {
      "cell_type": "markdown",
      "source": [
        "## Passo 4: Visualizar os resultados\n",
        "Vamos criar um gráfico de dispersão com a linha de regressão."
      ],
      "metadata": {
        "id": "5eysMMRsfD61"
      }
    },
    {
      "cell_type": "code",
      "source": [],
      "metadata": {
        "id": "uNI_pUI4fBm-"
      },
      "execution_count": null,
      "outputs": []
    },
    {
      "cell_type": "markdown",
      "source": [
        "## Passo 5: Avaliar o modelo\n",
        "Vamos calcular o R² e mostrar a equação da reta."
      ],
      "metadata": {
        "id": "4y1XaomrfPpP"
      }
    },
    {
      "cell_type": "code",
      "source": [],
      "metadata": {
        "id": "ubUdRsFFfGQh"
      },
      "execution_count": null,
      "outputs": []
    },
    {
      "cell_type": "markdown",
      "source": [
        "## Passo 6: Fazer previsões\n",
        "Você pode usar o modelo para prever preços para diferentes tamanhos de tela."
      ],
      "metadata": {
        "id": "Hdg13c5afpi4"
      }
    },
    {
      "cell_type": "code",
      "source": [],
      "metadata": {
        "id": "vBWpH4ZifR1H"
      },
      "execution_count": null,
      "outputs": []
    },
    {
      "cell_type": "code",
      "source": [],
      "metadata": {
        "id": "7jxnzOM1fuZl"
      },
      "execution_count": null,
      "outputs": []
    }
  ]
}