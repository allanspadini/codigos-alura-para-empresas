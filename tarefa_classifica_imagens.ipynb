{
  "cells": [
    {
      "cell_type": "code",
      "execution_count": 1,
      "metadata": {
        "colab": {
          "base_uri": "https://localhost:8080/"
        },
        "id": "QHTI9EDA8I6b",
        "outputId": "630ccf2e-022c-4fae-c546-b2c3088bcbd8"
      },
      "outputs": [
        {
          "output_type": "stream",
          "name": "stdout",
          "text": [
            "Dataset URL: https://www.kaggle.com/datasets/warcoder/gkn-blade-surface-defect-dataset\n",
            "License(s): Attribution 4.0 International (CC BY 4.0)\n",
            "Downloading gkn-blade-surface-defect-dataset.zip to /content\n",
            "100% 47.0M/47.0M [00:00<00:00, 83.2MB/s]\n",
            "100% 47.0M/47.0M [00:00<00:00, 71.5MB/s]\n"
          ]
        }
      ],
      "source": [
        "!kaggle datasets download -d warcoder/gkn-blade-surface-defect-dataset"
      ]
    },
    {
      "cell_type": "code",
      "execution_count": 2,
      "metadata": {
        "id": "g1NfRZSv8I6c"
      },
      "outputs": [],
      "source": [
        "import zipfile\n",
        "\n",
        "# Substitua o nome do arquivo pelo nome correto\n",
        "with zipfile.ZipFile(\"gkn-blade-surface-defect-dataset.zip\", 'r') as zip_ref:\n",
        "    zip_ref.extractall(\"dados_extraidos\")  # Pasta onde os dados serão extraídos\n"
      ]
    },
    {
      "cell_type": "markdown",
      "metadata": {
        "id": "PeK7s9s28I6e"
      },
      "source": [
        "# Classificação de imagens"
      ]
    },
    {
      "cell_type": "code",
      "execution_count": 3,
      "metadata": {
        "colab": {
          "base_uri": "https://localhost:8080/"
        },
        "id": "nQ5YWGO08I6h",
        "outputId": "c1aa9bea-7323-40c8-f7f9-78e8f22d3ce3"
      },
      "outputs": [
        {
          "output_type": "stream",
          "name": "stdout",
          "text": [
            "dados_extraidos  gkn-blade-surface-defect-dataset.zip  sample_data\n"
          ]
        }
      ],
      "source": [
        "!ls"
      ]
    },
    {
      "cell_type": "code",
      "execution_count": 4,
      "metadata": {
        "id": "fko0nMVY8I6i"
      },
      "outputs": [],
      "source": [
        "import torch\n",
        "from torchvision import datasets, transforms\n",
        "from torch.utils.data import DataLoader,random_split"
      ]
    },
    {
      "cell_type": "markdown",
      "metadata": {
        "id": "miNHEEZP8I6j"
      },
      "source": [
        "# Transformações para pré-processamento"
      ]
    },
    {
      "cell_type": "code",
      "execution_count": 5,
      "metadata": {
        "id": "ZzkGUhSJ8I6j"
      },
      "outputs": [],
      "source": [
        "# Transformação inicial sem normalização\n",
        "base_transform = transforms.Compose([\n",
        "    transforms.Resize((224, 224)),\n",
        "    transforms.ToTensor()\n",
        "])"
      ]
    },
    {
      "cell_type": "code",
      "execution_count": 6,
      "metadata": {
        "id": "wBZ2WqU18I6k"
      },
      "outputs": [],
      "source": [
        "data_dir = '/content/dados_extraidos/GKN Blade Surface Defect Dataset/Data_GKN'"
      ]
    },
    {
      "cell_type": "code",
      "source": [
        "dataset = datasets.ImageFolder(root=data_dir, transform=base_transform)"
      ],
      "metadata": {
        "id": "ASlLHLle9fPp"
      },
      "execution_count": 7,
      "outputs": []
    },
    {
      "cell_type": "markdown",
      "metadata": {
        "id": "M091Y0PY8I6k"
      },
      "source": [
        "# Dividir em treino e teste"
      ]
    },
    {
      "cell_type": "code",
      "execution_count": 8,
      "metadata": {
        "id": "AB8f6QEM8I6l"
      },
      "outputs": [],
      "source": [
        "# Dividir os dados em treino e teste antes de normalizar\n",
        "train_size = int(0.8 * len(dataset))\n",
        "test_size = len(dataset) - train_size\n",
        "train_dataset, test_dataset = random_split(dataset, [train_size, test_size])"
      ]
    },
    {
      "cell_type": "markdown",
      "metadata": {
        "id": "M0vaMIq-8I6l"
      },
      "source": [
        "# Calcular média e desvio padrão apenas no treino"
      ]
    },
    {
      "cell_type": "code",
      "execution_count": 9,
      "metadata": {
        "id": "3y-CoslF8I6l"
      },
      "outputs": [],
      "source": [
        "train_loader = DataLoader(train_dataset, batch_size=64, shuffle=True)\n",
        "mean = torch.zeros(3)\n",
        "std = torch.zeros(3)\n",
        "for images, _ in train_loader:\n",
        "    mean += images.mean(dim=[0, 2, 3])\n",
        "    std += images.std(dim=[0, 2, 3])\n",
        "mean /= len(train_loader)\n",
        "std /= len(train_loader)"
      ]
    },
    {
      "cell_type": "markdown",
      "metadata": {
        "id": "_IZIUlSL8I6l"
      },
      "source": [
        "# Aplicar transformações finais com normalização calculada\n"
      ]
    },
    {
      "cell_type": "code",
      "execution_count": 10,
      "metadata": {
        "id": "FnoXsFMf8I6m"
      },
      "outputs": [],
      "source": [
        "train_transforms = transforms.Compose([\n",
        "    transforms.Resize((224, 224)),\n",
        "    transforms.RandomHorizontalFlip(),\n",
        "    transforms.ToTensor(),\n",
        "    transforms.Normalize(mean.tolist(), std.tolist())\n",
        "])"
      ]
    },
    {
      "cell_type": "code",
      "source": [
        "test_transforms = transforms.Compose([\n",
        "    transforms.Resize((224, 224)),\n",
        "    transforms.ToTensor(),\n",
        "    transforms.Normalize(mean.tolist(), std.tolist())\n",
        "])"
      ],
      "metadata": {
        "id": "K3I6Zd70AtOe"
      },
      "execution_count": 12,
      "outputs": []
    },
    {
      "cell_type": "code",
      "execution_count": 13,
      "metadata": {
        "id": "BwR_dpZ58I6m"
      },
      "outputs": [],
      "source": [
        "# Aplicar as transformações finais\n",
        "train_dataset.dataset.transform = train_transforms\n",
        "test_dataset.dataset.transform = test_transforms"
      ]
    },
    {
      "cell_type": "code",
      "execution_count": null,
      "metadata": {
        "id": "EVOxRKT98I6m"
      },
      "outputs": [],
      "source": []
    },
    {
      "cell_type": "markdown",
      "metadata": {
        "id": "9JSR4dsN8I6m"
      },
      "source": [
        "# Criar DataLoaders"
      ]
    },
    {
      "cell_type": "code",
      "execution_count": 14,
      "metadata": {
        "id": "y4rn9Fuc8I6m"
      },
      "outputs": [],
      "source": [
        "train_loader = DataLoader(train_dataset, batch_size=64, shuffle=True)\n",
        "test_loader = DataLoader(test_dataset, batch_size=64, shuffle=False)"
      ]
    },
    {
      "cell_type": "markdown",
      "metadata": {
        "id": "NHhn0KLd8I6m"
      },
      "source": [
        "# Criando um modelo do zero"
      ]
    },
    {
      "cell_type": "code",
      "execution_count": 15,
      "metadata": {
        "id": "ey3fn1MO8I6n"
      },
      "outputs": [],
      "source": [
        "import torch.nn as nn\n",
        "import torch.nn.functional as F"
      ]
    },
    {
      "cell_type": "code",
      "execution_count": null,
      "metadata": {
        "id": "63wF7yfG8I6n"
      },
      "outputs": [],
      "source": [
        "class SimpleCNN(nn.Module):\n",
        "    def __init__(self, num_classes):\n",
        "        super(SimpleCNN, self).__init__()\n",
        "\n",
        "\n",
        "    def forward(self, x):\n",
        "        x = x.view(x.size(0), -1)  # Flatten"
      ]
    },
    {
      "cell_type": "markdown",
      "metadata": {
        "id": "7vA7RIcO8I6n"
      },
      "source": [
        "Como você estamos aplicando `transforms.Resize((224, 224))`, é necessário verificar se o tamanho da entrada da camada totalmente conectada (`fc1`) está correto. Vamos calcular isso.\n",
        "\n",
        "---\n",
        "\n",
        "### 📌 **Passo 1: Como as Camadas Convolucionais e Pooling Afetam o Tamanho?**\n",
        "Cada convolução (`Conv2d`) com `padding=1` e `kernel_size=3` mantém as dimensões, enquanto cada camada de `MaxPool2d(2,2)` reduz pela metade.\n",
        "\n",
        "#### **Transformação passo a passo para uma entrada de (224, 224):**\n",
        "1. **Entrada inicial**:  $ 224 \\times 224  $\n",
        "2. **Após `conv1` (Conv2d(3, 32, 3, padding=1))** → Dimensão **continua** $$  224 \\times 224  $$\n",
        "3. **Após `pool` (MaxPool2d(2,2))** → $  224 / 2 = 112 \\times 112  $\n",
        "4. **Após `conv2` (Conv2d(32, 64, 3, padding=1))** → $  112 \\times 112  $ *(não muda devido ao padding)*\n",
        "5. **Após `pool` (MaxPool2d(2,2))** → $  112 / 2 = 56 \\times 56  $\n",
        "6. **Após `conv3` (Conv2d(64, 128, 3, padding=1))** → $ 56 \\times 56  $*(não muda devido ao padding)*\n",
        "7. **Após `pool` (MaxPool2d(2,2))** → $  56 / 2 = 28 \\times 28  $\n",
        "\n",
        "---\n",
        "\n",
        "### 📌 **Passo 2: Ajustando o `fc1`**\n",
        "O número de neurônios que entram na camada `fc1` é:\n",
        "\n",
        "\n",
        "$ 128 \\times 28 \\times 28 $\n",
        "\n",
        "\n",
        "Logo, **a linha correta do `fc1` deve ser**:\n",
        "```python\n",
        "self.fc1 = nn.Linear(128 * 28 * 28, 512)\n",
        "```\n",
        "\n"
      ]
    },
    {
      "cell_type": "markdown",
      "metadata": {
        "id": "Oe69OmUQ8I6n"
      },
      "source": [
        "# Criar o modelo"
      ]
    },
    {
      "cell_type": "code",
      "execution_count": null,
      "metadata": {
        "id": "Rf30e6Q18I6o"
      },
      "outputs": [],
      "source": []
    },
    {
      "cell_type": "markdown",
      "metadata": {
        "id": "qX0MQtp88I6o"
      },
      "source": [
        "# Definir a Função de Perda e o Otimizador"
      ]
    },
    {
      "cell_type": "code",
      "execution_count": null,
      "metadata": {
        "id": "Uyi3o32x8I6o"
      },
      "outputs": [],
      "source": [
        "\n"
      ]
    },
    {
      "cell_type": "markdown",
      "metadata": {
        "id": "Os0VJ_6L8I6o"
      },
      "source": [
        "# Treinar o modelo"
      ]
    },
    {
      "cell_type": "code",
      "execution_count": null,
      "metadata": {
        "id": "fbEe2xqq8I6o"
      },
      "outputs": [],
      "source": []
    },
    {
      "cell_type": "markdown",
      "metadata": {
        "id": "8G3-t-Sq8I6p"
      },
      "source": [
        "# Avaliar no conjunto de teste"
      ]
    },
    {
      "cell_type": "code",
      "execution_count": null,
      "metadata": {
        "id": "yBmT9v3Q8I6p"
      },
      "outputs": [],
      "source": []
    },
    {
      "cell_type": "markdown",
      "metadata": {
        "id": "31541wBg8I6p"
      },
      "source": [
        "# Outro caminho - Transferência de aprendizagem"
      ]
    },
    {
      "cell_type": "markdown",
      "metadata": {
        "id": "iXFgPSne8I6p"
      },
      "source": [
        "https://pytorch.org/vision/main/models.html"
      ]
    },
    {
      "cell_type": "code",
      "execution_count": null,
      "metadata": {
        "id": "RViRBSoq8I6p"
      },
      "outputs": [],
      "source": []
    },
    {
      "cell_type": "markdown",
      "metadata": {
        "id": "bzJPW7Sd8I6p"
      },
      "source": [
        "Esse código está usando **Transfer Learning** com o modelo **ResNet-18** pré-treinado no ImageNet. Vamos entender linha por linha:\n",
        "\n",
        "---\n",
        "\n",
        "### 🔹 **Linha 1: Definição do Número de Classes**\n",
        "```python\n",
        "num_classes = 3\n",
        "```\n",
        "Aqui, definimos que o dataset possui **3 classes** (exemplo: `['Good', 'Nick', 'Scratch']`). O modelo precisa ajustar a saída para esse número.\n",
        "\n",
        "---\n",
        "\n",
        "### 🔹 **Linha 2: Carregamento da ResNet-18 Pré-Treinada**\n",
        "```python\n",
        "model = models.resnet18(pretrained=True)\n",
        "```\n",
        "- Baixa a **ResNet-18** pré-treinada no **ImageNet** (que tem 1.000 classes).\n",
        "- O modelo já aprendeu a detectar padrões básicos como bordas, texturas e formas, o que pode ser reutilizado para novas tarefas.\n",
        "\n",
        "---\n",
        "\n",
        "### 🔹 **Linha 3: Obtendo o Número de Entradas da Última Camada**\n",
        "```python\n",
        "num_ftrs = model.fc.in_features\n",
        "```\n",
        "- O modelo ResNet-18 tem uma **camada totalmente conectada (fc)** na saída.\n",
        "- Essa camada original tem **1.000 neurônios** (porque o ImageNet tem 1.000 classes).\n",
        "- `model.fc.in_features` retorna **o número de entradas dessa camada** (ou seja, quantos neurônios da penúltima camada conectam na saída).\n",
        "- Na ResNet-18, esse valor geralmente é **512**.\n",
        "\n",
        "---\n",
        "\n",
        "### 🔹 **Linha 4: Substituindo a Última Camada**\n",
        "```python\n",
        "model.fc = nn.Linear(num_ftrs, num_classes)\n",
        "```\n",
        "- Como nosso dataset tem apenas **3 classes**, trocamos a última camada.\n",
        "- A nova `fc` agora recebe **512 entradas** (da penúltima camada da ResNet) e **3 saídas** (uma para cada classe).\n",
        "\n",
        "---\n",
        "\n",
        "### 🔹 **Resumo**\n",
        "1. **Baixamos a ResNet-18 pré-treinada** para reutilizar suas camadas convolucionais.\n",
        "2. **Descobrimos quantas features são passadas para a última camada (`fc`)**.\n",
        "3. **Trocamos a última camada** para que a rede aprenda a classificar apenas 3 classes, ao invés das 1.000 do ImageNet.\n",
        "\n",
        "---\n",
        "\n",
        "### 🔹 **Fluxo do Modelo Antes e Depois**\n",
        "**Antes (original da ResNet-18 no ImageNet):**\n",
        "```\n",
        "Camadas convolucionais → Global Avg Pooling → nn.Linear(512, 1000)\n",
        "```\n",
        "**Depois (ajustado para nosso problema):**\n",
        "```\n",
        "Camadas convolucionais → Global Avg Pooling → nn.Linear(512, 3)\n",
        "```\n",
        "Ou seja, **mantemos todo o aprendizado da ResNet-18**, mas adaptamos a saída para nosso próprio problema! 🚀🔥"
      ]
    },
    {
      "cell_type": "code",
      "execution_count": null,
      "metadata": {
        "id": "D5WEuDkS8I6q"
      },
      "outputs": [],
      "source": []
    },
    {
      "cell_type": "markdown",
      "metadata": {
        "id": "kJhvRx8f8I6q"
      },
      "source": [
        "# Treinar o modelo"
      ]
    },
    {
      "cell_type": "code",
      "execution_count": null,
      "metadata": {
        "id": "o69kc-il8I6q"
      },
      "outputs": [],
      "source": []
    },
    {
      "cell_type": "markdown",
      "metadata": {
        "id": "9N8z9nW08I6q"
      },
      "source": [
        "# Avaliar no Conjunto de teste"
      ]
    },
    {
      "cell_type": "code",
      "execution_count": null,
      "metadata": {
        "id": "ajru79bi8I6q"
      },
      "outputs": [],
      "source": []
    },
    {
      "cell_type": "markdown",
      "metadata": {
        "id": "gsoPCnVm8I6u"
      },
      "source": [
        "# Salvar e carregar o modelo"
      ]
    },
    {
      "cell_type": "code",
      "execution_count": null,
      "metadata": {
        "id": "7V1S3sMX8I6v"
      },
      "outputs": [],
      "source": []
    },
    {
      "cell_type": "code",
      "execution_count": null,
      "metadata": {
        "id": "V01nQYFl8I6v"
      },
      "outputs": [],
      "source": []
    },
    {
      "cell_type": "markdown",
      "metadata": {
        "id": "2cYjd4iO8I6v"
      },
      "source": [
        "# Fazer previsões em novas imagens"
      ]
    },
    {
      "cell_type": "code",
      "execution_count": null,
      "metadata": {
        "id": "5FyVCxC68I6v"
      },
      "outputs": [],
      "source": []
    }
  ],
  "metadata": {
    "language_info": {
      "name": "python"
    },
    "colab": {
      "provenance": []
    },
    "kernelspec": {
      "name": "python3",
      "display_name": "Python 3"
    }
  },
  "nbformat": 4,
  "nbformat_minor": 0
}